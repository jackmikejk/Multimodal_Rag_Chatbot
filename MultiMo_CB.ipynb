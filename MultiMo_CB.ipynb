{
  "cells": [
    {
      "cell_type": "markdown",
      "metadata": {},
      "source": [
        "#Contributed by Michael Jackson Maria Louis and Swathi Murali for FAISS Vector Store Database Creation."
      ]
    },
    {
      "cell_type": "code",
      "execution_count": 31,
      "metadata": {
        "colab": {
          "base_uri": "https://localhost:8080/"
        },
        "id": "iqw8gh8NN-z5",
        "outputId": "930311db-9d50-4634-9a47-37b479f323b9"
      },
      "outputs": [
        {
          "name": "stderr",
          "output_type": "stream",
          "text": [
            "'sudo' is not recognized as an internal or external command,\n",
            "operable program or batch file.\n",
            "'sudo' is not recognized as an internal or external command,\n",
            "operable program or batch file.\n"
          ]
        }
      ],
      "source": [
        "!sudo apt install tesseract-ocr -y\n",
        "!sudo apt install libtesseract-dev -y\n",
        "!sudo apt-get install poppler-utils -y"
      ]
    },
    {
      "cell_type": "code",
      "execution_count": 26,
      "metadata": {
        "colab": {
          "base_uri": "https://localhost:8080/"
        },
        "id": "Qlw6azw4OKwY",
        "outputId": "511f3e13-8292-4057-8286-6e0a1de70d2e"
      },
      "outputs": [
        {
          "name": "stdout",
          "output_type": "stream",
          "text": [
            "Requirement already satisfied: langchain in c:\\users\\swath\\appdata\\local\\programs\\python\\python311\\lib\\site-packages (0.1.10)\n",
            "Requirement already satisfied: unstructured[all-docs] in c:\\users\\swath\\appdata\\local\\programs\\python\\python311\\lib\\site-packages (0.12.5)\n",
            "Requirement already satisfied: pydantic in c:\\users\\swath\\appdata\\local\\programs\\python\\python311\\lib\\site-packages (1.10.5)\n",
            "Requirement already satisfied: lxml in c:\\users\\swath\\appdata\\local\\programs\\python\\python311\\lib\\site-packages (5.1.0)\n",
            "Requirement already satisfied: openai in c:\\users\\swath\\appdata\\local\\programs\\python\\python311\\lib\\site-packages (1.13.3)\n",
            "Requirement already satisfied: chromadb in c:\\users\\swath\\appdata\\local\\programs\\python\\python311\\lib\\site-packages (0.4.24)\n",
            "Requirement already satisfied: tiktoken in c:\\users\\swath\\appdata\\local\\programs\\python\\python311\\lib\\site-packages (0.6.0)\n",
            "Requirement already satisfied: opencv-python in c:\\users\\swath\\appdata\\local\\programs\\python\\python311\\lib\\site-packages (4.9.0.80)\n",
            "Requirement already satisfied: PyYAML>=5.3 in c:\\users\\swath\\appdata\\local\\programs\\python\\python311\\lib\\site-packages (from langchain) (6.0.1)\n",
            "Requirement already satisfied: SQLAlchemy<3,>=1.4 in c:\\users\\swath\\appdata\\local\\programs\\python\\python311\\lib\\site-packages (from langchain) (2.0.27)\n",
            "Requirement already satisfied: aiohttp<4.0.0,>=3.8.3 in c:\\users\\swath\\appdata\\local\\programs\\python\\python311\\lib\\site-packages (from langchain) (3.9.3)\n",
            "Requirement already satisfied: dataclasses-json<0.7,>=0.5.7 in c:\\users\\swath\\appdata\\local\\programs\\python\\python311\\lib\\site-packages (from langchain) (0.6.4)\n",
            "Requirement already satisfied: jsonpatch<2.0,>=1.33 in c:\\users\\swath\\appdata\\local\\programs\\python\\python311\\lib\\site-packages (from langchain) (1.33)\n",
            "Requirement already satisfied: langchain-community<0.1,>=0.0.25 in c:\\users\\swath\\appdata\\local\\programs\\python\\python311\\lib\\site-packages (from langchain) (0.0.25)\n",
            "Requirement already satisfied: langchain-core<0.2,>=0.1.28 in c:\\users\\swath\\appdata\\local\\programs\\python\\python311\\lib\\site-packages (from langchain) (0.1.28)\n",
            "Requirement already satisfied: langchain-text-splitters<0.1,>=0.0.1 in c:\\users\\swath\\appdata\\local\\programs\\python\\python311\\lib\\site-packages (from langchain) (0.0.1)\n",
            "Requirement already satisfied: langsmith<0.2.0,>=0.1.0 in c:\\users\\swath\\appdata\\local\\programs\\python\\python311\\lib\\site-packages (from langchain) (0.1.13)\n",
            "Requirement already satisfied: numpy<2,>=1 in c:\\users\\swath\\appdata\\local\\programs\\python\\python311\\lib\\site-packages (from langchain) (1.24.2)\n",
            "Requirement already satisfied: requests<3,>=2 in c:\\users\\swath\\appdata\\local\\programs\\python\\python311\\lib\\site-packages (from langchain) (2.31.0)\n",
            "Requirement already satisfied: tenacity<9.0.0,>=8.1.0 in c:\\users\\swath\\appdata\\local\\programs\\python\\python311\\lib\\site-packages (from langchain) (8.2.3)\n",
            "Requirement already satisfied: chardet in c:\\users\\swath\\appdata\\local\\programs\\python\\python311\\lib\\site-packages (from unstructured[all-docs]) (3.0.4)\n",
            "Requirement already satisfied: filetype in c:\\users\\swath\\appdata\\local\\programs\\python\\python311\\lib\\site-packages (from unstructured[all-docs]) (1.2.0)\n",
            "Requirement already satisfied: python-magic in c:\\users\\swath\\appdata\\local\\programs\\python\\python311\\lib\\site-packages (from unstructured[all-docs]) (0.4.27)\n",
            "Requirement already satisfied: nltk in c:\\users\\swath\\appdata\\local\\programs\\python\\python311\\lib\\site-packages (from unstructured[all-docs]) (3.8.1)\n",
            "Requirement already satisfied: tabulate in c:\\users\\swath\\appdata\\local\\programs\\python\\python311\\lib\\site-packages (from unstructured[all-docs]) (0.9.0)\n",
            "Requirement already satisfied: beautifulsoup4 in c:\\users\\swath\\appdata\\local\\programs\\python\\python311\\lib\\site-packages (from unstructured[all-docs]) (4.11.2)\n",
            "Requirement already satisfied: emoji in c:\\users\\swath\\appdata\\local\\programs\\python\\python311\\lib\\site-packages (from unstructured[all-docs]) (2.10.1)\n",
            "Requirement already satisfied: python-iso639 in c:\\users\\swath\\appdata\\local\\programs\\python\\python311\\lib\\site-packages (from unstructured[all-docs]) (2024.2.7)\n",
            "Requirement already satisfied: langdetect in c:\\users\\swath\\appdata\\local\\programs\\python\\python311\\lib\\site-packages (from unstructured[all-docs]) (1.0.9)\n",
            "Requirement already satisfied: rapidfuzz in c:\\users\\swath\\appdata\\local\\programs\\python\\python311\\lib\\site-packages (from unstructured[all-docs]) (3.6.1)\n",
            "Requirement already satisfied: backoff in c:\\users\\swath\\appdata\\local\\programs\\python\\python311\\lib\\site-packages (from unstructured[all-docs]) (2.2.1)\n",
            "Requirement already satisfied: typing-extensions in c:\\users\\swath\\appdata\\local\\programs\\python\\python311\\lib\\site-packages (from unstructured[all-docs]) (4.10.0)\n",
            "Requirement already satisfied: unstructured-client>=0.15.1 in c:\\users\\swath\\appdata\\local\\programs\\python\\python311\\lib\\site-packages (from unstructured[all-docs]) (0.21.0)\n",
            "Requirement already satisfied: wrapt in c:\\users\\swath\\appdata\\local\\programs\\python\\python311\\lib\\site-packages (from unstructured[all-docs]) (1.16.0)\n",
            "Requirement already satisfied: python-docx in c:\\users\\swath\\appdata\\local\\programs\\python\\python311\\lib\\site-packages (from unstructured[all-docs]) (1.1.0)\n",
            "Requirement already satisfied: pypdf in c:\\users\\swath\\appdata\\local\\programs\\python\\python311\\lib\\site-packages (from unstructured[all-docs]) (4.1.0)\n",
            "Requirement already satisfied: xlrd in c:\\users\\swath\\appdata\\local\\programs\\python\\python311\\lib\\site-packages (from unstructured[all-docs]) (2.0.1)\n",
            "Requirement already satisfied: pypandoc in c:\\users\\swath\\appdata\\local\\programs\\python\\python311\\lib\\site-packages (from unstructured[all-docs]) (1.13)\n",
            "Requirement already satisfied: pillow-heif in c:\\users\\swath\\appdata\\local\\programs\\python\\python311\\lib\\site-packages (from unstructured[all-docs]) (0.15.0)\n",
            "Requirement already satisfied: python-pptx<=0.6.23 in c:\\users\\swath\\appdata\\local\\programs\\python\\python311\\lib\\site-packages (from unstructured[all-docs]) (0.6.23)\n",
            "Requirement already satisfied: openpyxl in c:\\users\\swath\\appdata\\local\\programs\\python\\python311\\lib\\site-packages (from unstructured[all-docs]) (3.1.2)\n",
            "Requirement already satisfied: pikepdf in c:\\users\\swath\\appdata\\local\\programs\\python\\python311\\lib\\site-packages (from unstructured[all-docs]) (8.13.0)\n",
            "Requirement already satisfied: onnx in c:\\users\\swath\\appdata\\local\\programs\\python\\python311\\lib\\site-packages (from unstructured[all-docs]) (1.15.0)\n",
            "Requirement already satisfied: pdf2image in c:\\users\\swath\\appdata\\local\\programs\\python\\python311\\lib\\site-packages (from unstructured[all-docs]) (1.17.0)\n",
            "Requirement already satisfied: unstructured-inference==0.7.23 in c:\\users\\swath\\appdata\\local\\programs\\python\\python311\\lib\\site-packages (from unstructured[all-docs]) (0.7.23)\n",
            "Requirement already satisfied: unstructured.pytesseract>=0.3.12 in c:\\users\\swath\\appdata\\local\\programs\\python\\python311\\lib\\site-packages (from unstructured[all-docs]) (0.3.12)\n",
            "Requirement already satisfied: pandas in c:\\users\\swath\\appdata\\local\\programs\\python\\python311\\lib\\site-packages (from unstructured[all-docs]) (1.5.3)\n",
            "Requirement already satisfied: markdown in c:\\users\\swath\\appdata\\local\\programs\\python\\python311\\lib\\site-packages (from unstructured[all-docs]) (3.5.2)\n",
            "Requirement already satisfied: msg-parser in c:\\users\\swath\\appdata\\local\\programs\\python\\python311\\lib\\site-packages (from unstructured[all-docs]) (1.2.0)\n",
            "Requirement already satisfied: networkx in c:\\users\\swath\\appdata\\local\\programs\\python\\python311\\lib\\site-packages (from unstructured[all-docs]) (3.2.1)\n",
            "Requirement already satisfied: pdfminer.six in c:\\users\\swath\\appdata\\local\\programs\\python\\python311\\lib\\site-packages (from unstructured[all-docs]) (20221105)\n",
            "Requirement already satisfied: layoutparser[layoutmodels,tesseract] in c:\\users\\swath\\appdata\\local\\programs\\python\\python311\\lib\\site-packages (from unstructured-inference==0.7.23->unstructured[all-docs]) (0.3.4)\n",
            "Requirement already satisfied: python-multipart in c:\\users\\swath\\appdata\\local\\programs\\python\\python311\\lib\\site-packages (from unstructured-inference==0.7.23->unstructured[all-docs]) (0.0.9)\n",
            "Requirement already satisfied: huggingface-hub in c:\\users\\swath\\appdata\\local\\programs\\python\\python311\\lib\\site-packages (from unstructured-inference==0.7.23->unstructured[all-docs]) (0.21.3)\n",
            "Requirement already satisfied: onnxruntime<1.16 in c:\\users\\swath\\appdata\\local\\programs\\python\\python311\\lib\\site-packages (from unstructured-inference==0.7.23->unstructured[all-docs]) (1.15.1)\n",
            "Requirement already satisfied: transformers>=4.25.1 in c:\\users\\swath\\appdata\\local\\programs\\python\\python311\\lib\\site-packages (from unstructured-inference==0.7.23->unstructured[all-docs]) (4.38.2)\n",
            "Requirement already satisfied: anyio<5,>=3.5.0 in c:\\users\\swath\\appdata\\local\\programs\\python\\python311\\lib\\site-packages (from openai) (3.6.2)\n",
            "Requirement already satisfied: distro<2,>=1.7.0 in c:\\users\\swath\\appdata\\local\\programs\\python\\python311\\lib\\site-packages (from openai) (1.9.0)\n",
            "Requirement already satisfied: httpx<1,>=0.23.0 in c:\\users\\swath\\appdata\\local\\programs\\python\\python311\\lib\\site-packages (from openai) (0.27.0)\n",
            "Requirement already satisfied: sniffio in c:\\users\\swath\\appdata\\local\\programs\\python\\python311\\lib\\site-packages (from openai) (1.3.0)\n",
            "Requirement already satisfied: tqdm>4 in c:\\users\\swath\\appdata\\local\\programs\\python\\python311\\lib\\site-packages (from openai) (4.66.2)\n",
            "Requirement already satisfied: build>=1.0.3 in c:\\users\\swath\\appdata\\local\\programs\\python\\python311\\lib\\site-packages (from chromadb) (1.1.1)\n",
            "Requirement already satisfied: chroma-hnswlib==0.7.3 in c:\\users\\swath\\appdata\\local\\programs\\python\\python311\\lib\\site-packages (from chromadb) (0.7.3)\n",
            "Requirement already satisfied: fastapi>=0.95.2 in c:\\users\\swath\\appdata\\local\\programs\\python\\python311\\lib\\site-packages (from chromadb) (0.110.0)\n",
            "Requirement already satisfied: uvicorn[standard]>=0.18.3 in c:\\users\\swath\\appdata\\local\\programs\\python\\python311\\lib\\site-packages (from chromadb) (0.20.0)\n",
            "Requirement already satisfied: posthog>=2.4.0 in c:\\users\\swath\\appdata\\local\\programs\\python\\python311\\lib\\site-packages (from chromadb) (3.4.2)\n",
            "Requirement already satisfied: pulsar-client>=3.1.0 in c:\\users\\swath\\appdata\\local\\programs\\python\\python311\\lib\\site-packages (from chromadb) (3.4.0)\n",
            "Requirement already satisfied: opentelemetry-api>=1.2.0 in c:\\users\\swath\\appdata\\local\\programs\\python\\python311\\lib\\site-packages (from chromadb) (1.23.0)\n",
            "Requirement already satisfied: opentelemetry-exporter-otlp-proto-grpc>=1.2.0 in c:\\users\\swath\\appdata\\local\\programs\\python\\python311\\lib\\site-packages (from chromadb) (1.23.0)\n",
            "Requirement already satisfied: opentelemetry-instrumentation-fastapi>=0.41b0 in c:\\users\\swath\\appdata\\local\\programs\\python\\python311\\lib\\site-packages (from chromadb) (0.44b0)\n",
            "Requirement already satisfied: opentelemetry-sdk>=1.2.0 in c:\\users\\swath\\appdata\\local\\programs\\python\\python311\\lib\\site-packages (from chromadb) (1.23.0)\n",
            "Requirement already satisfied: tokenizers>=0.13.2 in c:\\users\\swath\\appdata\\local\\programs\\python\\python311\\lib\\site-packages (from chromadb) (0.15.2)\n",
            "Requirement already satisfied: pypika>=0.48.9 in c:\\users\\swath\\appdata\\local\\programs\\python\\python311\\lib\\site-packages (from chromadb) (0.48.9)\n",
            "Requirement already satisfied: overrides>=7.3.1 in c:\\users\\swath\\appdata\\local\\programs\\python\\python311\\lib\\site-packages (from chromadb) (7.7.0)\n",
            "Requirement already satisfied: importlib-resources in c:\\users\\swath\\appdata\\local\\programs\\python\\python311\\lib\\site-packages (from chromadb) (6.1.2)\n",
            "Requirement already satisfied: grpcio>=1.58.0 in c:\\users\\swath\\appdata\\local\\programs\\python\\python311\\lib\\site-packages (from chromadb) (1.62.0)\n",
            "Requirement already satisfied: bcrypt>=4.0.1 in c:\\users\\swath\\appdata\\local\\programs\\python\\python311\\lib\\site-packages (from chromadb) (4.1.2)\n",
            "Requirement already satisfied: typer>=0.9.0 in c:\\users\\swath\\appdata\\local\\programs\\python\\python311\\lib\\site-packages (from chromadb) (0.9.0)\n",
            "Requirement already satisfied: kubernetes>=28.1.0 in c:\\users\\swath\\appdata\\local\\programs\\python\\python311\\lib\\site-packages (from chromadb) (29.0.0)\n",
            "Requirement already satisfied: mmh3>=4.0.1 in c:\\users\\swath\\appdata\\local\\programs\\python\\python311\\lib\\site-packages (from chromadb) (4.1.0)\n",
            "Requirement already satisfied: orjson>=3.9.12 in c:\\users\\swath\\appdata\\local\\programs\\python\\python311\\lib\\site-packages (from chromadb) (3.9.15)\n",
            "Requirement already satisfied: regex>=2022.1.18 in c:\\users\\swath\\appdata\\local\\programs\\python\\python311\\lib\\site-packages (from tiktoken) (2023.12.25)\n",
            "Requirement already satisfied: aiosignal>=1.1.2 in c:\\users\\swath\\appdata\\local\\programs\\python\\python311\\lib\\site-packages (from aiohttp<4.0.0,>=3.8.3->langchain) (1.3.1)\n",
            "Requirement already satisfied: attrs>=17.3.0 in c:\\users\\swath\\appdata\\local\\programs\\python\\python311\\lib\\site-packages (from aiohttp<4.0.0,>=3.8.3->langchain) (22.2.0)\n",
            "Requirement already satisfied: frozenlist>=1.1.1 in c:\\users\\swath\\appdata\\local\\programs\\python\\python311\\lib\\site-packages (from aiohttp<4.0.0,>=3.8.3->langchain) (1.4.1)\n",
            "Requirement already satisfied: multidict<7.0,>=4.5 in c:\\users\\swath\\appdata\\local\\programs\\python\\python311\\lib\\site-packages (from aiohttp<4.0.0,>=3.8.3->langchain) (6.0.5)\n",
            "Requirement already satisfied: yarl<2.0,>=1.0 in c:\\users\\swath\\appdata\\local\\programs\\python\\python311\\lib\\site-packages (from aiohttp<4.0.0,>=3.8.3->langchain) (1.9.4)\n",
            "Requirement already satisfied: idna>=2.8 in c:\\users\\swath\\appdata\\local\\programs\\python\\python311\\lib\\site-packages (from anyio<5,>=3.5.0->openai) (3.6)\n",
            "Requirement already satisfied: packaging>=19.0 in c:\\users\\swath\\appdata\\local\\programs\\python\\python311\\lib\\site-packages (from build>=1.0.3->chromadb) (23.2)\n",
            "Requirement already satisfied: pyproject_hooks in c:\\users\\swath\\appdata\\local\\programs\\python\\python311\\lib\\site-packages (from build>=1.0.3->chromadb) (1.0.0)\n",
            "Requirement already satisfied: colorama in c:\\users\\swath\\appdata\\local\\programs\\python\\python311\\lib\\site-packages (from build>=1.0.3->chromadb) (0.4.6)\n",
            "Requirement already satisfied: marshmallow<4.0.0,>=3.18.0 in c:\\users\\swath\\appdata\\local\\programs\\python\\python311\\lib\\site-packages (from dataclasses-json<0.7,>=0.5.7->langchain) (3.21.0)\n",
            "Requirement already satisfied: typing-inspect<1,>=0.4.0 in c:\\users\\swath\\appdata\\local\\programs\\python\\python311\\lib\\site-packages (from dataclasses-json<0.7,>=0.5.7->langchain) (0.9.0)\n",
            "Requirement already satisfied: starlette<0.37.0,>=0.36.3 in c:\\users\\swath\\appdata\\local\\programs\\python\\python311\\lib\\site-packages (from fastapi>=0.95.2->chromadb) (0.36.3)\n",
            "Requirement already satisfied: certifi in c:\\users\\swath\\appdata\\local\\programs\\python\\python311\\lib\\site-packages (from httpx<1,>=0.23.0->openai) (2024.2.2)\n",
            "Requirement already satisfied: httpcore==1.* in c:\\users\\swath\\appdata\\local\\programs\\python\\python311\\lib\\site-packages (from httpx<1,>=0.23.0->openai) (1.0.4)\n",
            "Requirement already satisfied: h11<0.15,>=0.13 in c:\\users\\swath\\appdata\\local\\programs\\python\\python311\\lib\\site-packages (from httpcore==1.*->httpx<1,>=0.23.0->openai) (0.14.0)\n",
            "Requirement already satisfied: jsonpointer>=1.9 in c:\\users\\swath\\appdata\\local\\programs\\python\\python311\\lib\\site-packages (from jsonpatch<2.0,>=1.33->langchain) (2.4)\n",
            "Requirement already satisfied: six>=1.9.0 in c:\\users\\swath\\appdata\\local\\programs\\python\\python311\\lib\\site-packages (from kubernetes>=28.1.0->chromadb) (1.16.0)\n",
            "Requirement already satisfied: python-dateutil>=2.5.3 in c:\\users\\swath\\appdata\\local\\programs\\python\\python311\\lib\\site-packages (from kubernetes>=28.1.0->chromadb) (2.8.2)\n",
            "Requirement already satisfied: google-auth>=1.0.1 in c:\\users\\swath\\appdata\\local\\programs\\python\\python311\\lib\\site-packages (from kubernetes>=28.1.0->chromadb) (1.4.2)\n",
            "Requirement already satisfied: websocket-client!=0.40.0,!=0.41.*,!=0.42.*,>=0.32.0 in c:\\users\\swath\\appdata\\local\\programs\\python\\python311\\lib\\site-packages (from kubernetes>=28.1.0->chromadb) (1.5.1)\n",
            "Requirement already satisfied: requests-oauthlib in c:\\users\\swath\\appdata\\local\\programs\\python\\python311\\lib\\site-packages (from kubernetes>=28.1.0->chromadb) (1.3.1)\n",
            "Requirement already satisfied: oauthlib>=3.2.2 in c:\\users\\swath\\appdata\\local\\programs\\python\\python311\\lib\\site-packages (from kubernetes>=28.1.0->chromadb) (3.2.2)\n",
            "Requirement already satisfied: urllib3>=1.24.2 in c:\\users\\swath\\appdata\\local\\programs\\python\\python311\\lib\\site-packages (from kubernetes>=28.1.0->chromadb) (2.2.1)\n",
            "Requirement already satisfied: coloredlogs in c:\\users\\swath\\appdata\\local\\programs\\python\\python311\\lib\\site-packages (from onnxruntime<1.16->unstructured-inference==0.7.23->unstructured[all-docs]) (15.0.1)\n",
            "Requirement already satisfied: flatbuffers in c:\\users\\swath\\appdata\\local\\programs\\python\\python311\\lib\\site-packages (from onnxruntime<1.16->unstructured-inference==0.7.23->unstructured[all-docs]) (23.5.26)\n",
            "Requirement already satisfied: protobuf in c:\\users\\swath\\appdata\\local\\programs\\python\\python311\\lib\\site-packages (from onnxruntime<1.16->unstructured-inference==0.7.23->unstructured[all-docs]) (4.25.3)\n",
            "Requirement already satisfied: sympy in c:\\users\\swath\\appdata\\local\\programs\\python\\python311\\lib\\site-packages (from onnxruntime<1.16->unstructured-inference==0.7.23->unstructured[all-docs]) (1.12)\n",
            "Requirement already satisfied: deprecated>=1.2.6 in c:\\users\\swath\\appdata\\local\\programs\\python\\python311\\lib\\site-packages (from opentelemetry-api>=1.2.0->chromadb) (1.2.14)\n",
            "Requirement already satisfied: importlib-metadata<7.0,>=6.0 in c:\\users\\swath\\appdata\\local\\programs\\python\\python311\\lib\\site-packages (from opentelemetry-api>=1.2.0->chromadb) (6.0.0)\n",
            "Requirement already satisfied: googleapis-common-protos~=1.52 in c:\\users\\swath\\appdata\\local\\programs\\python\\python311\\lib\\site-packages (from opentelemetry-exporter-otlp-proto-grpc>=1.2.0->chromadb) (1.62.0)\n",
            "Requirement already satisfied: opentelemetry-exporter-otlp-proto-common==1.23.0 in c:\\users\\swath\\appdata\\local\\programs\\python\\python311\\lib\\site-packages (from opentelemetry-exporter-otlp-proto-grpc>=1.2.0->chromadb) (1.23.0)\n",
            "Requirement already satisfied: opentelemetry-proto==1.23.0 in c:\\users\\swath\\appdata\\local\\programs\\python\\python311\\lib\\site-packages (from opentelemetry-exporter-otlp-proto-grpc>=1.2.0->chromadb) (1.23.0)\n",
            "Requirement already satisfied: opentelemetry-instrumentation-asgi==0.44b0 in c:\\users\\swath\\appdata\\local\\programs\\python\\python311\\lib\\site-packages (from opentelemetry-instrumentation-fastapi>=0.41b0->chromadb) (0.44b0)\n",
            "Requirement already satisfied: opentelemetry-instrumentation==0.44b0 in c:\\users\\swath\\appdata\\local\\programs\\python\\python311\\lib\\site-packages (from opentelemetry-instrumentation-fastapi>=0.41b0->chromadb) (0.44b0)\n",
            "Requirement already satisfied: opentelemetry-semantic-conventions==0.44b0 in c:\\users\\swath\\appdata\\local\\programs\\python\\python311\\lib\\site-packages (from opentelemetry-instrumentation-fastapi>=0.41b0->chromadb) (0.44b0)\n",
            "Requirement already satisfied: opentelemetry-util-http==0.44b0 in c:\\users\\swath\\appdata\\local\\programs\\python\\python311\\lib\\site-packages (from opentelemetry-instrumentation-fastapi>=0.41b0->chromadb) (0.44b0)\n",
            "Requirement already satisfied: setuptools>=16.0 in c:\\users\\swath\\appdata\\local\\programs\\python\\python311\\lib\\site-packages (from opentelemetry-instrumentation==0.44b0->opentelemetry-instrumentation-fastapi>=0.41b0->chromadb) (65.5.0)\n",
            "Requirement already satisfied: asgiref~=3.0 in c:\\users\\swath\\appdata\\local\\programs\\python\\python311\\lib\\site-packages (from opentelemetry-instrumentation-asgi==0.44b0->opentelemetry-instrumentation-fastapi>=0.41b0->chromadb) (3.6.0)\n",
            "Requirement already satisfied: monotonic>=1.5 in c:\\users\\swath\\appdata\\local\\programs\\python\\python311\\lib\\site-packages (from posthog>=2.4.0->chromadb) (1.6)\n",
            "Requirement already satisfied: Pillow>=3.3.2 in c:\\users\\swath\\appdata\\local\\programs\\python\\python311\\lib\\site-packages (from python-pptx<=0.6.23->unstructured[all-docs]) (10.2.0)\n",
            "Requirement already satisfied: XlsxWriter>=0.5.7 in c:\\users\\swath\\appdata\\local\\programs\\python\\python311\\lib\\site-packages (from python-pptx<=0.6.23->unstructured[all-docs]) (3.2.0)\n",
            "Requirement already satisfied: charset-normalizer<4,>=2 in c:\\users\\swath\\appdata\\local\\programs\\python\\python311\\lib\\site-packages (from requests<3,>=2->langchain) (3.3.2)\n",
            "Requirement already satisfied: greenlet!=0.4.17 in c:\\users\\swath\\appdata\\local\\programs\\python\\python311\\lib\\site-packages (from SQLAlchemy<3,>=1.4->langchain) (3.0.3)\n",
            "Requirement already satisfied: click<9.0.0,>=7.1.1 in c:\\users\\swath\\appdata\\local\\programs\\python\\python311\\lib\\site-packages (from typer>=0.9.0->chromadb) (8.1.3)\n",
            "Requirement already satisfied: jsonpath-python>=1.0.6 in c:\\users\\swath\\appdata\\local\\programs\\python\\python311\\lib\\site-packages (from unstructured-client>=0.15.1->unstructured[all-docs]) (1.0.6)\n",
            "Requirement already satisfied: mypy-extensions>=1.0.0 in c:\\users\\swath\\appdata\\local\\programs\\python\\python311\\lib\\site-packages (from unstructured-client>=0.15.1->unstructured[all-docs]) (1.0.0)\n",
            "Requirement already satisfied: httptools>=0.5.0 in c:\\users\\swath\\appdata\\local\\programs\\python\\python311\\lib\\site-packages (from uvicorn[standard]>=0.18.3->chromadb) (0.6.1)\n",
            "Requirement already satisfied: python-dotenv>=0.13 in c:\\users\\swath\\appdata\\local\\programs\\python\\python311\\lib\\site-packages (from uvicorn[standard]>=0.18.3->chromadb) (1.0.1)\n",
            "Requirement already satisfied: watchfiles>=0.13 in c:\\users\\swath\\appdata\\local\\programs\\python\\python311\\lib\\site-packages (from uvicorn[standard]>=0.18.3->chromadb) (0.21.0)\n",
            "Requirement already satisfied: websockets>=10.4 in c:\\users\\swath\\appdata\\local\\programs\\python\\python311\\lib\\site-packages (from uvicorn[standard]>=0.18.3->chromadb) (12.0)\n",
            "Requirement already satisfied: soupsieve>1.2 in c:\\users\\swath\\appdata\\local\\programs\\python\\python311\\lib\\site-packages (from beautifulsoup4->unstructured[all-docs]) (2.4)\n",
            "Requirement already satisfied: olefile>=0.46 in c:\\users\\swath\\appdata\\local\\programs\\python\\python311\\lib\\site-packages (from msg-parser->unstructured[all-docs]) (0.47)\n",
            "Requirement already satisfied: joblib in c:\\users\\swath\\appdata\\local\\programs\\python\\python311\\lib\\site-packages (from nltk->unstructured[all-docs]) (1.2.0)\n",
            "Requirement already satisfied: et-xmlfile in c:\\users\\swath\\appdata\\local\\programs\\python\\python311\\lib\\site-packages (from openpyxl->unstructured[all-docs]) (1.1.0)\n",
            "Requirement already satisfied: pytz>=2020.1 in c:\\users\\swath\\appdata\\local\\programs\\python\\python311\\lib\\site-packages (from pandas->unstructured[all-docs]) (2022.7.1)\n",
            "Requirement already satisfied: cryptography>=36.0.0 in c:\\users\\swath\\appdata\\local\\programs\\python\\python311\\lib\\site-packages (from pdfminer.six->unstructured[all-docs]) (42.0.5)\n",
            "Requirement already satisfied: cffi>=1.12 in c:\\users\\swath\\appdata\\local\\programs\\python\\python311\\lib\\site-packages (from cryptography>=36.0.0->pdfminer.six->unstructured[all-docs]) (1.16.0)\n",
            "Requirement already satisfied: pyasn1-modules>=0.2.1 in c:\\users\\swath\\appdata\\local\\programs\\python\\python311\\lib\\site-packages (from google-auth>=1.0.1->kubernetes>=28.1.0->chromadb) (0.2.8)\n",
            "Requirement already satisfied: rsa>=3.1.4 in c:\\users\\swath\\appdata\\local\\programs\\python\\python311\\lib\\site-packages (from google-auth>=1.0.1->kubernetes>=28.1.0->chromadb) (4.9)\n",
            "Requirement already satisfied: cachetools>=2.0.0 in c:\\users\\swath\\appdata\\local\\programs\\python\\python311\\lib\\site-packages (from google-auth>=1.0.1->kubernetes>=28.1.0->chromadb) (5.3.0)\n",
            "Requirement already satisfied: filelock in c:\\users\\swath\\appdata\\local\\programs\\python\\python311\\lib\\site-packages (from huggingface-hub->unstructured-inference==0.7.23->unstructured[all-docs]) (3.13.1)\n",
            "Requirement already satisfied: fsspec>=2023.5.0 in c:\\users\\swath\\appdata\\local\\programs\\python\\python311\\lib\\site-packages (from huggingface-hub->unstructured-inference==0.7.23->unstructured[all-docs]) (2024.2.0)\n",
            "Requirement already satisfied: zipp>=0.5 in c:\\users\\swath\\appdata\\local\\programs\\python\\python311\\lib\\site-packages (from importlib-metadata<7.0,>=6.0->opentelemetry-api>=1.2.0->chromadb) (3.15.0)\n",
            "Requirement already satisfied: safetensors>=0.4.1 in c:\\users\\swath\\appdata\\local\\programs\\python\\python311\\lib\\site-packages (from transformers>=4.25.1->unstructured-inference==0.7.23->unstructured[all-docs]) (0.4.2)\n",
            "Requirement already satisfied: humanfriendly>=9.1 in c:\\users\\swath\\appdata\\local\\programs\\python\\python311\\lib\\site-packages (from coloredlogs->onnxruntime<1.16->unstructured-inference==0.7.23->unstructured[all-docs]) (10.0)\n",
            "Requirement already satisfied: scipy in c:\\users\\swath\\appdata\\local\\programs\\python\\python311\\lib\\site-packages (from layoutparser[layoutmodels,tesseract]->unstructured-inference==0.7.23->unstructured[all-docs]) (1.10.1)\n",
            "Requirement already satisfied: iopath in c:\\users\\swath\\appdata\\local\\programs\\python\\python311\\lib\\site-packages (from layoutparser[layoutmodels,tesseract]->unstructured-inference==0.7.23->unstructured[all-docs]) (0.1.10)\n",
            "Requirement already satisfied: pdfplumber in c:\\users\\swath\\appdata\\local\\programs\\python\\python311\\lib\\site-packages (from layoutparser[layoutmodels,tesseract]->unstructured-inference==0.7.23->unstructured[all-docs]) (0.10.4)\n",
            "Requirement already satisfied: torch in c:\\users\\swath\\appdata\\local\\programs\\python\\python311\\lib\\site-packages (from layoutparser[layoutmodels,tesseract]->unstructured-inference==0.7.23->unstructured[all-docs]) (2.2.1)\n",
            "Requirement already satisfied: torchvision in c:\\users\\swath\\appdata\\local\\programs\\python\\python311\\lib\\site-packages (from layoutparser[layoutmodels,tesseract]->unstructured-inference==0.7.23->unstructured[all-docs]) (0.17.1)\n",
            "Requirement already satisfied: effdet in c:\\users\\swath\\appdata\\local\\programs\\python\\python311\\lib\\site-packages (from layoutparser[layoutmodels,tesseract]->unstructured-inference==0.7.23->unstructured[all-docs]) (0.4.1)\n",
            "Requirement already satisfied: pytesseract in c:\\users\\swath\\appdata\\local\\programs\\python\\python311\\lib\\site-packages (from layoutparser[layoutmodels,tesseract]->unstructured-inference==0.7.23->unstructured[all-docs]) (0.3.10)\n",
            "Requirement already satisfied: mpmath>=0.19 in c:\\users\\swath\\appdata\\local\\programs\\python\\python311\\lib\\site-packages (from sympy->onnxruntime<1.16->unstructured-inference==0.7.23->unstructured[all-docs]) (1.3.0)\n",
            "Requirement already satisfied: pycparser in c:\\users\\swath\\appdata\\local\\programs\\python\\python311\\lib\\site-packages (from cffi>=1.12->cryptography>=36.0.0->pdfminer.six->unstructured[all-docs]) (2.21)\n",
            "Requirement already satisfied: pyreadline3 in c:\\users\\swath\\appdata\\local\\programs\\python\\python311\\lib\\site-packages (from humanfriendly>=9.1->coloredlogs->onnxruntime<1.16->unstructured-inference==0.7.23->unstructured[all-docs]) (3.4.1)\n",
            "Requirement already satisfied: pyasn1<0.5.0,>=0.4.6 in c:\\users\\swath\\appdata\\local\\programs\\python\\python311\\lib\\site-packages (from pyasn1-modules>=0.2.1->google-auth>=1.0.1->kubernetes>=28.1.0->chromadb) (0.4.8)\n",
            "Requirement already satisfied: timm>=0.9.2 in c:\\users\\swath\\appdata\\local\\programs\\python\\python311\\lib\\site-packages (from effdet->layoutparser[layoutmodels,tesseract]->unstructured-inference==0.7.23->unstructured[all-docs]) (0.9.16)\n",
            "Requirement already satisfied: pycocotools>=2.0.2 in c:\\users\\swath\\appdata\\local\\programs\\python\\python311\\lib\\site-packages (from effdet->layoutparser[layoutmodels,tesseract]->unstructured-inference==0.7.23->unstructured[all-docs]) (2.0.7)\n",
            "Requirement already satisfied: omegaconf>=2.0 in c:\\users\\swath\\appdata\\local\\programs\\python\\python311\\lib\\site-packages (from effdet->layoutparser[layoutmodels,tesseract]->unstructured-inference==0.7.23->unstructured[all-docs]) (2.3.0)\n",
            "Requirement already satisfied: jinja2 in c:\\users\\swath\\appdata\\local\\programs\\python\\python311\\lib\\site-packages (from torch->layoutparser[layoutmodels,tesseract]->unstructured-inference==0.7.23->unstructured[all-docs]) (3.1.2)\n",
            "Requirement already satisfied: portalocker in c:\\users\\swath\\appdata\\local\\programs\\python\\python311\\lib\\site-packages (from iopath->layoutparser[layoutmodels,tesseract]->unstructured-inference==0.7.23->unstructured[all-docs]) (2.8.2)\n",
            "Requirement already satisfied: pypdfium2>=4.18.0 in c:\\users\\swath\\appdata\\local\\programs\\python\\python311\\lib\\site-packages (from pdfplumber->layoutparser[layoutmodels,tesseract]->unstructured-inference==0.7.23->unstructured[all-docs]) (4.27.0)\n",
            "Requirement already satisfied: antlr4-python3-runtime==4.9.* in c:\\users\\swath\\appdata\\local\\programs\\python\\python311\\lib\\site-packages (from omegaconf>=2.0->effdet->layoutparser[layoutmodels,tesseract]->unstructured-inference==0.7.23->unstructured[all-docs]) (4.9.3)\n",
            "Requirement already satisfied: matplotlib>=2.1.0 in c:\\users\\swath\\appdata\\local\\programs\\python\\python311\\lib\\site-packages (from pycocotools>=2.0.2->effdet->layoutparser[layoutmodels,tesseract]->unstructured-inference==0.7.23->unstructured[all-docs]) (3.7.0)\n",
            "Requirement already satisfied: MarkupSafe>=2.0 in c:\\users\\swath\\appdata\\local\\programs\\python\\python311\\lib\\site-packages (from jinja2->torch->layoutparser[layoutmodels,tesseract]->unstructured-inference==0.7.23->unstructured[all-docs]) (2.1.2)\n",
            "Requirement already satisfied: pywin32>=226 in c:\\users\\swath\\appdata\\local\\programs\\python\\python311\\lib\\site-packages (from portalocker->iopath->layoutparser[layoutmodels,tesseract]->unstructured-inference==0.7.23->unstructured[all-docs]) (305)\n",
            "Requirement already satisfied: contourpy>=1.0.1 in c:\\users\\swath\\appdata\\local\\programs\\python\\python311\\lib\\site-packages (from matplotlib>=2.1.0->pycocotools>=2.0.2->effdet->layoutparser[layoutmodels,tesseract]->unstructured-inference==0.7.23->unstructured[all-docs]) (1.0.7)\n",
            "Requirement already satisfied: cycler>=0.10 in c:\\users\\swath\\appdata\\local\\programs\\python\\python311\\lib\\site-packages (from matplotlib>=2.1.0->pycocotools>=2.0.2->effdet->layoutparser[layoutmodels,tesseract]->unstructured-inference==0.7.23->unstructured[all-docs]) (0.11.0)\n",
            "Requirement already satisfied: fonttools>=4.22.0 in c:\\users\\swath\\appdata\\local\\programs\\python\\python311\\lib\\site-packages (from matplotlib>=2.1.0->pycocotools>=2.0.2->effdet->layoutparser[layoutmodels,tesseract]->unstructured-inference==0.7.23->unstructured[all-docs]) (4.38.0)\n",
            "Requirement already satisfied: kiwisolver>=1.0.1 in c:\\users\\swath\\appdata\\local\\programs\\python\\python311\\lib\\site-packages (from matplotlib>=2.1.0->pycocotools>=2.0.2->effdet->layoutparser[layoutmodels,tesseract]->unstructured-inference==0.7.23->unstructured[all-docs]) (1.4.4)\n",
            "Requirement already satisfied: pyparsing>=2.3.1 in c:\\users\\swath\\appdata\\local\\programs\\python\\python311\\lib\\site-packages (from matplotlib>=2.1.0->pycocotools>=2.0.2->effdet->layoutparser[layoutmodels,tesseract]->unstructured-inference==0.7.23->unstructured[all-docs]) (3.0.9)\n"
          ]
        },
        {
          "name": "stderr",
          "output_type": "stream",
          "text": [
            "\n",
            "[notice] A new release of pip available: 22.3.1 -> 24.0\n",
            "[notice] To update, run: python.exe -m pip install --upgrade pip\n"
          ]
        }
      ],
      "source": [
        "!pip install langchain unstructured[all-docs] pydantic lxml openai chromadb tiktoken opencv-python"
      ]
    },
    {
      "cell_type": "code",
      "execution_count": 27,
      "metadata": {
        "id": "xaFCir6cOK3Y"
      },
      "outputs": [],
      "source": [
        "#Importing the libraries required to create a PDF-Driven Question Answering System\n",
        "import os\n",
        "import uuid\n",
        "import base64\n",
        "from IPython import display\n",
        "from unstructured.partition.pdf import partition_pdf\n",
        "from langchain.chat_models import ChatOpenAI\n",
        "from langchain.embeddings import OpenAIEmbeddings\n",
        "from langchain.chains import LLMChain\n",
        "from langchain.prompts import PromptTemplate\n",
        "from langchain.schema.messages import HumanMessage, SystemMessage\n",
        "from langchain.schema.document import Document\n",
        "from langchain.vectorstores import FAISS\n",
        "from langchain.retrievers.multi_vector import MultiVectorRetriever"
      ]
    },
    {
      "cell_type": "code",
      "execution_count": 20,
      "metadata": {
        "id": "K-EOxj-OOK6A"
      },
      "outputs": [],
      "source": [
        "openai_api_key = \"\""
      ]
    },
    {
      "cell_type": "code",
      "execution_count": 29,
      "metadata": {
        "id": "Mj1eBHwQOK8g"
      },
      "outputs": [],
      "source": [
        "output_path = \"\\images\""
      ]
    },
    {
      "cell_type": "code",
      "execution_count": 30,
      "metadata": {
        "colab": {
          "base_uri": "https://localhost:8080/"
        },
        "id": "rcFTicxXOK_Q",
        "outputId": "b8034ade-fb36-4cef-f865-8bae71737380"
      },
      "outputs": [
        {
          "name": "stderr",
          "output_type": "stream",
          "text": [
            "This function will be deprecated in a future release and `unstructured` will simply use the DEFAULT_MODEL from `unstructured_inference.model.base` to set default model name\n"
          ]
        },
        {
          "ename": "TesseractNotFoundError",
          "evalue": "tesseract is not installed or it's not in your PATH. See README file for more information.",
          "output_type": "error",
          "traceback": [
            "\u001b[1;31m---------------------------------------------------------------------------\u001b[0m",
            "\u001b[1;31mFileNotFoundError\u001b[0m                         Traceback (most recent call last)",
            "File \u001b[1;32mc:\\Users\\swath\\AppData\\Local\\Programs\\Python\\Python311\\Lib\\site-packages\\unstructured_pytesseract\\pytesseract.py:446\u001b[0m, in \u001b[0;36mget_tesseract_version\u001b[1;34m()\u001b[0m\n\u001b[0;32m    445\u001b[0m \u001b[38;5;28;01mtry\u001b[39;00m:\n\u001b[1;32m--> 446\u001b[0m     output \u001b[38;5;241m=\u001b[39m \u001b[43msubprocess\u001b[49m\u001b[38;5;241;43m.\u001b[39;49m\u001b[43mcheck_output\u001b[49m\u001b[43m(\u001b[49m\n\u001b[0;32m    447\u001b[0m \u001b[43m        \u001b[49m\u001b[43m[\u001b[49m\u001b[43mtesseract_cmd\u001b[49m\u001b[43m,\u001b[49m\u001b[43m \u001b[49m\u001b[38;5;124;43m'\u001b[39;49m\u001b[38;5;124;43m--version\u001b[39;49m\u001b[38;5;124;43m'\u001b[39;49m\u001b[43m]\u001b[49m\u001b[43m,\u001b[49m\n\u001b[0;32m    448\u001b[0m \u001b[43m        \u001b[49m\u001b[43mstderr\u001b[49m\u001b[38;5;241;43m=\u001b[39;49m\u001b[43msubprocess\u001b[49m\u001b[38;5;241;43m.\u001b[39;49m\u001b[43mSTDOUT\u001b[49m\u001b[43m,\u001b[49m\n\u001b[0;32m    449\u001b[0m \u001b[43m        \u001b[49m\u001b[43menv\u001b[49m\u001b[38;5;241;43m=\u001b[39;49m\u001b[43menviron\u001b[49m\u001b[43m,\u001b[49m\n\u001b[0;32m    450\u001b[0m \u001b[43m        \u001b[49m\u001b[43mstdin\u001b[49m\u001b[38;5;241;43m=\u001b[39;49m\u001b[43msubprocess\u001b[49m\u001b[38;5;241;43m.\u001b[39;49m\u001b[43mDEVNULL\u001b[49m\u001b[43m,\u001b[49m\n\u001b[0;32m    451\u001b[0m \u001b[43m    \u001b[49m\u001b[43m)\u001b[49m\n\u001b[0;32m    452\u001b[0m \u001b[38;5;28;01mexcept\u001b[39;00m \u001b[38;5;167;01mOSError\u001b[39;00m:\n",
            "File \u001b[1;32mc:\\Users\\swath\\AppData\\Local\\Programs\\Python\\Python311\\Lib\\subprocess.py:466\u001b[0m, in \u001b[0;36mcheck_output\u001b[1;34m(timeout, *popenargs, **kwargs)\u001b[0m\n\u001b[0;32m    464\u001b[0m     kwargs[\u001b[38;5;124m'\u001b[39m\u001b[38;5;124minput\u001b[39m\u001b[38;5;124m'\u001b[39m] \u001b[38;5;241m=\u001b[39m empty\n\u001b[1;32m--> 466\u001b[0m \u001b[38;5;28;01mreturn\u001b[39;00m \u001b[43mrun\u001b[49m\u001b[43m(\u001b[49m\u001b[38;5;241;43m*\u001b[39;49m\u001b[43mpopenargs\u001b[49m\u001b[43m,\u001b[49m\u001b[43m \u001b[49m\u001b[43mstdout\u001b[49m\u001b[38;5;241;43m=\u001b[39;49m\u001b[43mPIPE\u001b[49m\u001b[43m,\u001b[49m\u001b[43m \u001b[49m\u001b[43mtimeout\u001b[49m\u001b[38;5;241;43m=\u001b[39;49m\u001b[43mtimeout\u001b[49m\u001b[43m,\u001b[49m\u001b[43m \u001b[49m\u001b[43mcheck\u001b[49m\u001b[38;5;241;43m=\u001b[39;49m\u001b[38;5;28;43;01mTrue\u001b[39;49;00m\u001b[43m,\u001b[49m\n\u001b[0;32m    467\u001b[0m \u001b[43m           \u001b[49m\u001b[38;5;241;43m*\u001b[39;49m\u001b[38;5;241;43m*\u001b[39;49m\u001b[43mkwargs\u001b[49m\u001b[43m)\u001b[49m\u001b[38;5;241m.\u001b[39mstdout\n",
            "File \u001b[1;32mc:\\Users\\swath\\AppData\\Local\\Programs\\Python\\Python311\\Lib\\subprocess.py:548\u001b[0m, in \u001b[0;36mrun\u001b[1;34m(input, capture_output, timeout, check, *popenargs, **kwargs)\u001b[0m\n\u001b[0;32m    546\u001b[0m     kwargs[\u001b[38;5;124m'\u001b[39m\u001b[38;5;124mstderr\u001b[39m\u001b[38;5;124m'\u001b[39m] \u001b[38;5;241m=\u001b[39m PIPE\n\u001b[1;32m--> 548\u001b[0m \u001b[38;5;28;01mwith\u001b[39;00m \u001b[43mPopen\u001b[49m\u001b[43m(\u001b[49m\u001b[38;5;241;43m*\u001b[39;49m\u001b[43mpopenargs\u001b[49m\u001b[43m,\u001b[49m\u001b[43m \u001b[49m\u001b[38;5;241;43m*\u001b[39;49m\u001b[38;5;241;43m*\u001b[39;49m\u001b[43mkwargs\u001b[49m\u001b[43m)\u001b[49m \u001b[38;5;28;01mas\u001b[39;00m process:\n\u001b[0;32m    549\u001b[0m     \u001b[38;5;28;01mtry\u001b[39;00m:\n",
            "File \u001b[1;32mc:\\Users\\swath\\AppData\\Local\\Programs\\Python\\Python311\\Lib\\subprocess.py:1024\u001b[0m, in \u001b[0;36mPopen.__init__\u001b[1;34m(self, args, bufsize, executable, stdin, stdout, stderr, preexec_fn, close_fds, shell, cwd, env, universal_newlines, startupinfo, creationflags, restore_signals, start_new_session, pass_fds, user, group, extra_groups, encoding, errors, text, umask, pipesize, process_group)\u001b[0m\n\u001b[0;32m   1021\u001b[0m             \u001b[38;5;28mself\u001b[39m\u001b[38;5;241m.\u001b[39mstderr \u001b[38;5;241m=\u001b[39m io\u001b[38;5;241m.\u001b[39mTextIOWrapper(\u001b[38;5;28mself\u001b[39m\u001b[38;5;241m.\u001b[39mstderr,\n\u001b[0;32m   1022\u001b[0m                     encoding\u001b[38;5;241m=\u001b[39mencoding, errors\u001b[38;5;241m=\u001b[39merrors)\n\u001b[1;32m-> 1024\u001b[0m     \u001b[38;5;28;43mself\u001b[39;49m\u001b[38;5;241;43m.\u001b[39;49m\u001b[43m_execute_child\u001b[49m\u001b[43m(\u001b[49m\u001b[43margs\u001b[49m\u001b[43m,\u001b[49m\u001b[43m \u001b[49m\u001b[43mexecutable\u001b[49m\u001b[43m,\u001b[49m\u001b[43m \u001b[49m\u001b[43mpreexec_fn\u001b[49m\u001b[43m,\u001b[49m\u001b[43m \u001b[49m\u001b[43mclose_fds\u001b[49m\u001b[43m,\u001b[49m\n\u001b[0;32m   1025\u001b[0m \u001b[43m                        \u001b[49m\u001b[43mpass_fds\u001b[49m\u001b[43m,\u001b[49m\u001b[43m \u001b[49m\u001b[43mcwd\u001b[49m\u001b[43m,\u001b[49m\u001b[43m \u001b[49m\u001b[43menv\u001b[49m\u001b[43m,\u001b[49m\n\u001b[0;32m   1026\u001b[0m \u001b[43m                        \u001b[49m\u001b[43mstartupinfo\u001b[49m\u001b[43m,\u001b[49m\u001b[43m \u001b[49m\u001b[43mcreationflags\u001b[49m\u001b[43m,\u001b[49m\u001b[43m \u001b[49m\u001b[43mshell\u001b[49m\u001b[43m,\u001b[49m\n\u001b[0;32m   1027\u001b[0m \u001b[43m                        \u001b[49m\u001b[43mp2cread\u001b[49m\u001b[43m,\u001b[49m\u001b[43m \u001b[49m\u001b[43mp2cwrite\u001b[49m\u001b[43m,\u001b[49m\n\u001b[0;32m   1028\u001b[0m \u001b[43m                        \u001b[49m\u001b[43mc2pread\u001b[49m\u001b[43m,\u001b[49m\u001b[43m \u001b[49m\u001b[43mc2pwrite\u001b[49m\u001b[43m,\u001b[49m\n\u001b[0;32m   1029\u001b[0m \u001b[43m                        \u001b[49m\u001b[43merrread\u001b[49m\u001b[43m,\u001b[49m\u001b[43m \u001b[49m\u001b[43merrwrite\u001b[49m\u001b[43m,\u001b[49m\n\u001b[0;32m   1030\u001b[0m \u001b[43m                        \u001b[49m\u001b[43mrestore_signals\u001b[49m\u001b[43m,\u001b[49m\n\u001b[0;32m   1031\u001b[0m \u001b[43m                        \u001b[49m\u001b[43mgid\u001b[49m\u001b[43m,\u001b[49m\u001b[43m \u001b[49m\u001b[43mgids\u001b[49m\u001b[43m,\u001b[49m\u001b[43m \u001b[49m\u001b[43muid\u001b[49m\u001b[43m,\u001b[49m\u001b[43m \u001b[49m\u001b[43mumask\u001b[49m\u001b[43m,\u001b[49m\n\u001b[0;32m   1032\u001b[0m \u001b[43m                        \u001b[49m\u001b[43mstart_new_session\u001b[49m\u001b[43m,\u001b[49m\u001b[43m \u001b[49m\u001b[43mprocess_group\u001b[49m\u001b[43m)\u001b[49m\n\u001b[0;32m   1033\u001b[0m \u001b[38;5;28;01mexcept\u001b[39;00m:\n\u001b[0;32m   1034\u001b[0m     \u001b[38;5;66;03m# Cleanup if the child failed starting.\u001b[39;00m\n",
            "File \u001b[1;32mc:\\Users\\swath\\AppData\\Local\\Programs\\Python\\Python311\\Lib\\subprocess.py:1493\u001b[0m, in \u001b[0;36mPopen._execute_child\u001b[1;34m(self, args, executable, preexec_fn, close_fds, pass_fds, cwd, env, startupinfo, creationflags, shell, p2cread, p2cwrite, c2pread, c2pwrite, errread, errwrite, unused_restore_signals, unused_gid, unused_gids, unused_uid, unused_umask, unused_start_new_session, unused_process_group)\u001b[0m\n\u001b[0;32m   1492\u001b[0m \u001b[38;5;28;01mtry\u001b[39;00m:\n\u001b[1;32m-> 1493\u001b[0m     hp, ht, pid, tid \u001b[38;5;241m=\u001b[39m _winapi\u001b[38;5;241m.\u001b[39mCreateProcess(executable, args,\n\u001b[0;32m   1494\u001b[0m                              \u001b[38;5;66;03m# no special security\u001b[39;00m\n\u001b[0;32m   1495\u001b[0m                              \u001b[38;5;28;01mNone\u001b[39;00m, \u001b[38;5;28;01mNone\u001b[39;00m,\n\u001b[0;32m   1496\u001b[0m                              \u001b[38;5;28mint\u001b[39m(\u001b[38;5;129;01mnot\u001b[39;00m close_fds),\n\u001b[0;32m   1497\u001b[0m                              creationflags,\n\u001b[0;32m   1498\u001b[0m                              env,\n\u001b[0;32m   1499\u001b[0m                              cwd,\n\u001b[0;32m   1500\u001b[0m                              startupinfo)\n\u001b[0;32m   1501\u001b[0m \u001b[38;5;28;01mfinally\u001b[39;00m:\n\u001b[0;32m   1502\u001b[0m     \u001b[38;5;66;03m# Child is launched. Close the parent's copy of those pipe\u001b[39;00m\n\u001b[0;32m   1503\u001b[0m     \u001b[38;5;66;03m# handles that only the child should have open.  You need\u001b[39;00m\n\u001b[1;32m   (...)\u001b[0m\n\u001b[0;32m   1506\u001b[0m     \u001b[38;5;66;03m# pipe will not close when the child process exits and the\u001b[39;00m\n\u001b[0;32m   1507\u001b[0m     \u001b[38;5;66;03m# ReadFile will hang.\u001b[39;00m\n",
            "\u001b[1;31mFileNotFoundError\u001b[0m: [WinError 2] The system cannot find the file specified",
            "\nDuring handling of the above exception, another exception occurred:\n",
            "\u001b[1;31mTesseractNotFoundError\u001b[0m                    Traceback (most recent call last)",
            "Cell \u001b[1;32mIn[30], line 1\u001b[0m\n\u001b[1;32m----> 1\u001b[0m raw_pdf_elements \u001b[38;5;241m=\u001b[39m \u001b[43mpartition_pdf\u001b[49m\u001b[43m(\u001b[49m\n\u001b[0;32m      2\u001b[0m \u001b[43m    \u001b[49m\u001b[43mfilename\u001b[49m\u001b[38;5;241;43m=\u001b[39;49m\u001b[38;5;124;43mr\u001b[39;49m\u001b[38;5;124;43m\"\u001b[39;49m\u001b[38;5;124;43mC:\u001b[39;49m\u001b[38;5;124;43m\\\u001b[39;49m\u001b[38;5;124;43mUsers\u001b[39;49m\u001b[38;5;124;43m\\\u001b[39;49m\u001b[38;5;124;43mswath\u001b[39;49m\u001b[38;5;124;43m\\\u001b[39;49m\u001b[38;5;124;43mOneDrive - University of Ottawa\u001b[39;49m\u001b[38;5;124;43m\\\u001b[39;49m\u001b[38;5;124;43mMultimedia Communication\u001b[39;49m\u001b[38;5;124;43m\\\u001b[39;49m\u001b[38;5;124;43mMultimodal-RAG-using-Langchain-main\u001b[39;49m\u001b[38;5;124;43m\\\u001b[39;49m\u001b[38;5;124;43mpdf_file\u001b[39;49m\u001b[38;5;124;43m\\\u001b[39;49m\u001b[38;5;124;43mModelS.pdf\u001b[39;49m\u001b[38;5;124;43m\"\u001b[39;49m\u001b[43m,\u001b[49m\n\u001b[0;32m      3\u001b[0m \u001b[43m    \u001b[49m\u001b[43mextract_images_in_pdf\u001b[49m\u001b[38;5;241;43m=\u001b[39;49m\u001b[38;5;28;43;01mTrue\u001b[39;49;00m\u001b[43m,\u001b[49m\n\u001b[0;32m      4\u001b[0m \u001b[43m    \u001b[49m\u001b[43minfer_table_structure\u001b[49m\u001b[38;5;241;43m=\u001b[39;49m\u001b[38;5;28;43;01mTrue\u001b[39;49;00m\u001b[43m,\u001b[49m\n\u001b[0;32m      5\u001b[0m \u001b[43m    \u001b[49m\u001b[43mchunking_strategy\u001b[49m\u001b[38;5;241;43m=\u001b[39;49m\u001b[38;5;124;43m\"\u001b[39;49m\u001b[38;5;124;43mby_title\u001b[39;49m\u001b[38;5;124;43m\"\u001b[39;49m\u001b[43m,\u001b[49m\n\u001b[0;32m      6\u001b[0m \u001b[43m    \u001b[49m\u001b[43mmax_characters\u001b[49m\u001b[38;5;241;43m=\u001b[39;49m\u001b[38;5;241;43m4000\u001b[39;49m\u001b[43m,\u001b[49m\n\u001b[0;32m      7\u001b[0m \u001b[43m    \u001b[49m\u001b[43mnew_after_n_chars\u001b[49m\u001b[38;5;241;43m=\u001b[39;49m\u001b[38;5;241;43m3800\u001b[39;49m\u001b[43m,\u001b[49m\n\u001b[0;32m      8\u001b[0m \u001b[43m    \u001b[49m\u001b[43mcombine_text_under_n_chars\u001b[49m\u001b[38;5;241;43m=\u001b[39;49m\u001b[38;5;241;43m2000\u001b[39;49m\u001b[43m,\u001b[49m\n\u001b[0;32m      9\u001b[0m \u001b[43m    \u001b[49m\u001b[43mextract_image_block_output_dir\u001b[49m\u001b[38;5;241;43m=\u001b[39;49m\u001b[43moutput_path\u001b[49m\u001b[43m,\u001b[49m\n\u001b[0;32m     10\u001b[0m \u001b[43m)\u001b[49m\n",
            "File \u001b[1;32mc:\\Users\\swath\\AppData\\Local\\Programs\\Python\\Python311\\Lib\\site-packages\\unstructured\\documents\\elements.py:526\u001b[0m, in \u001b[0;36mprocess_metadata.<locals>.decorator.<locals>.wrapper\u001b[1;34m(*args, **kwargs)\u001b[0m\n\u001b[0;32m    524\u001b[0m \u001b[38;5;129m@functools\u001b[39m\u001b[38;5;241m.\u001b[39mwraps(func)\n\u001b[0;32m    525\u001b[0m \u001b[38;5;28;01mdef\u001b[39;00m \u001b[38;5;21mwrapper\u001b[39m(\u001b[38;5;241m*\u001b[39margs: _P\u001b[38;5;241m.\u001b[39margs, \u001b[38;5;241m*\u001b[39m\u001b[38;5;241m*\u001b[39mkwargs: _P\u001b[38;5;241m.\u001b[39mkwargs) \u001b[38;5;241m-\u001b[39m\u001b[38;5;241m>\u001b[39m List[Element]:\n\u001b[1;32m--> 526\u001b[0m     elements \u001b[38;5;241m=\u001b[39m \u001b[43mfunc\u001b[49m\u001b[43m(\u001b[49m\u001b[38;5;241;43m*\u001b[39;49m\u001b[43margs\u001b[49m\u001b[43m,\u001b[49m\u001b[43m \u001b[49m\u001b[38;5;241;43m*\u001b[39;49m\u001b[38;5;241;43m*\u001b[39;49m\u001b[43mkwargs\u001b[49m\u001b[43m)\u001b[49m\n\u001b[0;32m    527\u001b[0m     sig \u001b[38;5;241m=\u001b[39m inspect\u001b[38;5;241m.\u001b[39msignature(func)\n\u001b[0;32m    528\u001b[0m     params: Dict[\u001b[38;5;28mstr\u001b[39m, Any] \u001b[38;5;241m=\u001b[39m \u001b[38;5;28mdict\u001b[39m(\u001b[38;5;241m*\u001b[39m\u001b[38;5;241m*\u001b[39m\u001b[38;5;28mdict\u001b[39m(\u001b[38;5;28mzip\u001b[39m(sig\u001b[38;5;241m.\u001b[39mparameters, args)), \u001b[38;5;241m*\u001b[39m\u001b[38;5;241m*\u001b[39mkwargs)\n",
            "File \u001b[1;32mc:\\Users\\swath\\AppData\\Local\\Programs\\Python\\Python311\\Lib\\site-packages\\unstructured\\file_utils\\filetype.py:627\u001b[0m, in \u001b[0;36madd_filetype.<locals>.decorator.<locals>.wrapper\u001b[1;34m(*args, **kwargs)\u001b[0m\n\u001b[0;32m    625\u001b[0m \u001b[38;5;129m@functools\u001b[39m\u001b[38;5;241m.\u001b[39mwraps(func)\n\u001b[0;32m    626\u001b[0m \u001b[38;5;28;01mdef\u001b[39;00m \u001b[38;5;21mwrapper\u001b[39m(\u001b[38;5;241m*\u001b[39margs: _P\u001b[38;5;241m.\u001b[39margs, \u001b[38;5;241m*\u001b[39m\u001b[38;5;241m*\u001b[39mkwargs: _P\u001b[38;5;241m.\u001b[39mkwargs) \u001b[38;5;241m-\u001b[39m\u001b[38;5;241m>\u001b[39m List[Element]:\n\u001b[1;32m--> 627\u001b[0m     elements \u001b[38;5;241m=\u001b[39m \u001b[43mfunc\u001b[49m\u001b[43m(\u001b[49m\u001b[38;5;241;43m*\u001b[39;49m\u001b[43margs\u001b[49m\u001b[43m,\u001b[49m\u001b[43m \u001b[49m\u001b[38;5;241;43m*\u001b[39;49m\u001b[38;5;241;43m*\u001b[39;49m\u001b[43mkwargs\u001b[49m\u001b[43m)\u001b[49m\n\u001b[0;32m    628\u001b[0m     sig \u001b[38;5;241m=\u001b[39m inspect\u001b[38;5;241m.\u001b[39msignature(func)\n\u001b[0;32m    629\u001b[0m     params: Dict[\u001b[38;5;28mstr\u001b[39m, Any] \u001b[38;5;241m=\u001b[39m \u001b[38;5;28mdict\u001b[39m(\u001b[38;5;241m*\u001b[39m\u001b[38;5;241m*\u001b[39m\u001b[38;5;28mdict\u001b[39m(\u001b[38;5;28mzip\u001b[39m(sig\u001b[38;5;241m.\u001b[39mparameters, args)), \u001b[38;5;241m*\u001b[39m\u001b[38;5;241m*\u001b[39mkwargs)\n",
            "File \u001b[1;32mc:\\Users\\swath\\AppData\\Local\\Programs\\Python\\Python311\\Lib\\site-packages\\unstructured\\file_utils\\filetype.py:582\u001b[0m, in \u001b[0;36madd_metadata.<locals>.wrapper\u001b[1;34m(*args, **kwargs)\u001b[0m\n\u001b[0;32m    580\u001b[0m \u001b[38;5;129m@functools\u001b[39m\u001b[38;5;241m.\u001b[39mwraps(func)\n\u001b[0;32m    581\u001b[0m \u001b[38;5;28;01mdef\u001b[39;00m \u001b[38;5;21mwrapper\u001b[39m(\u001b[38;5;241m*\u001b[39margs: _P\u001b[38;5;241m.\u001b[39margs, \u001b[38;5;241m*\u001b[39m\u001b[38;5;241m*\u001b[39mkwargs: _P\u001b[38;5;241m.\u001b[39mkwargs) \u001b[38;5;241m-\u001b[39m\u001b[38;5;241m>\u001b[39m List[Element]:\n\u001b[1;32m--> 582\u001b[0m     elements \u001b[38;5;241m=\u001b[39m \u001b[43mfunc\u001b[49m\u001b[43m(\u001b[49m\u001b[38;5;241;43m*\u001b[39;49m\u001b[43margs\u001b[49m\u001b[43m,\u001b[49m\u001b[43m \u001b[49m\u001b[38;5;241;43m*\u001b[39;49m\u001b[38;5;241;43m*\u001b[39;49m\u001b[43mkwargs\u001b[49m\u001b[43m)\u001b[49m\n\u001b[0;32m    583\u001b[0m     sig \u001b[38;5;241m=\u001b[39m inspect\u001b[38;5;241m.\u001b[39msignature(func)\n\u001b[0;32m    584\u001b[0m     params: Dict[\u001b[38;5;28mstr\u001b[39m, Any] \u001b[38;5;241m=\u001b[39m \u001b[38;5;28mdict\u001b[39m(\u001b[38;5;241m*\u001b[39m\u001b[38;5;241m*\u001b[39m\u001b[38;5;28mdict\u001b[39m(\u001b[38;5;28mzip\u001b[39m(sig\u001b[38;5;241m.\u001b[39mparameters, args)), \u001b[38;5;241m*\u001b[39m\u001b[38;5;241m*\u001b[39mkwargs)\n",
            "File \u001b[1;32mc:\\Users\\swath\\AppData\\Local\\Programs\\Python\\Python311\\Lib\\site-packages\\unstructured\\chunking\\__init__.py:71\u001b[0m, in \u001b[0;36madd_chunking_strategy.<locals>.decorator.<locals>.wrapper\u001b[1;34m(*args, **kwargs)\u001b[0m\n\u001b[0;32m     68\u001b[0m     \u001b[38;5;28;01mreturn\u001b[39;00m call_args\n\u001b[0;32m     70\u001b[0m \u001b[38;5;66;03m# -- call the partitioning function to get the elements --\u001b[39;00m\n\u001b[1;32m---> 71\u001b[0m elements \u001b[38;5;241m=\u001b[39m \u001b[43mfunc\u001b[49m\u001b[43m(\u001b[49m\u001b[38;5;241;43m*\u001b[39;49m\u001b[43margs\u001b[49m\u001b[43m,\u001b[49m\u001b[43m \u001b[49m\u001b[38;5;241;43m*\u001b[39;49m\u001b[38;5;241;43m*\u001b[39;49m\u001b[43mkwargs\u001b[49m\u001b[43m)\u001b[49m\n\u001b[0;32m     73\u001b[0m \u001b[38;5;66;03m# -- look for a chunking-strategy argument and run the indicated chunker when present --\u001b[39;00m\n\u001b[0;32m     74\u001b[0m call_args \u001b[38;5;241m=\u001b[39m get_call_args_applying_defaults()\n",
            "File \u001b[1;32mc:\\Users\\swath\\AppData\\Local\\Programs\\Python\\Python311\\Lib\\site-packages\\unstructured\\partition\\pdf.py:213\u001b[0m, in \u001b[0;36mpartition_pdf\u001b[1;34m(filename, file, include_page_breaks, strategy, infer_table_structure, ocr_languages, languages, include_metadata, metadata_filename, metadata_last_modified, chunking_strategy, links, hi_res_model_name, extract_images_in_pdf, extract_image_block_types, extract_image_block_output_dir, extract_image_block_to_payload, **kwargs)\u001b[0m\n\u001b[0;32m    209\u001b[0m exactly_one(filename\u001b[38;5;241m=\u001b[39mfilename, file\u001b[38;5;241m=\u001b[39mfile)\n\u001b[0;32m    211\u001b[0m languages \u001b[38;5;241m=\u001b[39m check_language_args(languages \u001b[38;5;129;01mor\u001b[39;00m [], ocr_languages) \u001b[38;5;129;01mor\u001b[39;00m [\u001b[38;5;124m\"\u001b[39m\u001b[38;5;124meng\u001b[39m\u001b[38;5;124m\"\u001b[39m]\n\u001b[1;32m--> 213\u001b[0m \u001b[38;5;28;01mreturn\u001b[39;00m \u001b[43mpartition_pdf_or_image\u001b[49m\u001b[43m(\u001b[49m\n\u001b[0;32m    214\u001b[0m \u001b[43m    \u001b[49m\u001b[43mfilename\u001b[49m\u001b[38;5;241;43m=\u001b[39;49m\u001b[43mfilename\u001b[49m\u001b[43m,\u001b[49m\n\u001b[0;32m    215\u001b[0m \u001b[43m    \u001b[49m\u001b[43mfile\u001b[49m\u001b[38;5;241;43m=\u001b[39;49m\u001b[43mfile\u001b[49m\u001b[43m,\u001b[49m\n\u001b[0;32m    216\u001b[0m \u001b[43m    \u001b[49m\u001b[43minclude_page_breaks\u001b[49m\u001b[38;5;241;43m=\u001b[39;49m\u001b[43minclude_page_breaks\u001b[49m\u001b[43m,\u001b[49m\n\u001b[0;32m    217\u001b[0m \u001b[43m    \u001b[49m\u001b[43mstrategy\u001b[49m\u001b[38;5;241;43m=\u001b[39;49m\u001b[43mstrategy\u001b[49m\u001b[43m,\u001b[49m\n\u001b[0;32m    218\u001b[0m \u001b[43m    \u001b[49m\u001b[43minfer_table_structure\u001b[49m\u001b[38;5;241;43m=\u001b[39;49m\u001b[43minfer_table_structure\u001b[49m\u001b[43m,\u001b[49m\n\u001b[0;32m    219\u001b[0m \u001b[43m    \u001b[49m\u001b[43mlanguages\u001b[49m\u001b[38;5;241;43m=\u001b[39;49m\u001b[43mlanguages\u001b[49m\u001b[43m,\u001b[49m\n\u001b[0;32m    220\u001b[0m \u001b[43m    \u001b[49m\u001b[43mmetadata_last_modified\u001b[49m\u001b[38;5;241;43m=\u001b[39;49m\u001b[43mmetadata_last_modified\u001b[49m\u001b[43m,\u001b[49m\n\u001b[0;32m    221\u001b[0m \u001b[43m    \u001b[49m\u001b[43mhi_res_model_name\u001b[49m\u001b[38;5;241;43m=\u001b[39;49m\u001b[43mhi_res_model_name\u001b[49m\u001b[43m,\u001b[49m\n\u001b[0;32m    222\u001b[0m \u001b[43m    \u001b[49m\u001b[43mextract_images_in_pdf\u001b[49m\u001b[38;5;241;43m=\u001b[39;49m\u001b[43mextract_images_in_pdf\u001b[49m\u001b[43m,\u001b[49m\n\u001b[0;32m    223\u001b[0m \u001b[43m    \u001b[49m\u001b[43mextract_image_block_types\u001b[49m\u001b[38;5;241;43m=\u001b[39;49m\u001b[43mextract_image_block_types\u001b[49m\u001b[43m,\u001b[49m\n\u001b[0;32m    224\u001b[0m \u001b[43m    \u001b[49m\u001b[43mextract_image_block_output_dir\u001b[49m\u001b[38;5;241;43m=\u001b[39;49m\u001b[43mextract_image_block_output_dir\u001b[49m\u001b[43m,\u001b[49m\n\u001b[0;32m    225\u001b[0m \u001b[43m    \u001b[49m\u001b[43mextract_image_block_to_payload\u001b[49m\u001b[38;5;241;43m=\u001b[39;49m\u001b[43mextract_image_block_to_payload\u001b[49m\u001b[43m,\u001b[49m\n\u001b[0;32m    226\u001b[0m \u001b[43m    \u001b[49m\u001b[38;5;241;43m*\u001b[39;49m\u001b[38;5;241;43m*\u001b[39;49m\u001b[43mkwargs\u001b[49m\u001b[43m,\u001b[49m\n\u001b[0;32m    227\u001b[0m \u001b[43m\u001b[49m\u001b[43m)\u001b[49m\n",
            "File \u001b[1;32mc:\\Users\\swath\\AppData\\Local\\Programs\\Python\\Python311\\Lib\\site-packages\\unstructured\\partition\\pdf.py:298\u001b[0m, in \u001b[0;36mpartition_pdf_or_image\u001b[1;34m(filename, file, is_image, include_page_breaks, strategy, infer_table_structure, ocr_languages, languages, metadata_last_modified, hi_res_model_name, extract_images_in_pdf, extract_image_block_types, extract_image_block_output_dir, extract_image_block_to_payload, **kwargs)\u001b[0m\n\u001b[0;32m    296\u001b[0m     \u001b[38;5;28;01mwith\u001b[39;00m warnings\u001b[38;5;241m.\u001b[39mcatch_warnings():\n\u001b[0;32m    297\u001b[0m         warnings\u001b[38;5;241m.\u001b[39msimplefilter(\u001b[38;5;124m\"\u001b[39m\u001b[38;5;124mignore\u001b[39m\u001b[38;5;124m\"\u001b[39m)\n\u001b[1;32m--> 298\u001b[0m         elements \u001b[38;5;241m=\u001b[39m \u001b[43m_partition_pdf_or_image_local\u001b[49m\u001b[43m(\u001b[49m\n\u001b[0;32m    299\u001b[0m \u001b[43m            \u001b[49m\u001b[43mfilename\u001b[49m\u001b[38;5;241;43m=\u001b[39;49m\u001b[43mfilename\u001b[49m\u001b[43m,\u001b[49m\n\u001b[0;32m    300\u001b[0m \u001b[43m            \u001b[49m\u001b[43mfile\u001b[49m\u001b[38;5;241;43m=\u001b[39;49m\u001b[43mspooled_to_bytes_io_if_needed\u001b[49m\u001b[43m(\u001b[49m\u001b[43mfile\u001b[49m\u001b[43m)\u001b[49m\u001b[43m,\u001b[49m\n\u001b[0;32m    301\u001b[0m \u001b[43m            \u001b[49m\u001b[43mis_image\u001b[49m\u001b[38;5;241;43m=\u001b[39;49m\u001b[43mis_image\u001b[49m\u001b[43m,\u001b[49m\n\u001b[0;32m    302\u001b[0m \u001b[43m            \u001b[49m\u001b[43minfer_table_structure\u001b[49m\u001b[38;5;241;43m=\u001b[39;49m\u001b[43minfer_table_structure\u001b[49m\u001b[43m,\u001b[49m\n\u001b[0;32m    303\u001b[0m \u001b[43m            \u001b[49m\u001b[43minclude_page_breaks\u001b[49m\u001b[38;5;241;43m=\u001b[39;49m\u001b[43minclude_page_breaks\u001b[49m\u001b[43m,\u001b[49m\n\u001b[0;32m    304\u001b[0m \u001b[43m            \u001b[49m\u001b[43mlanguages\u001b[49m\u001b[38;5;241;43m=\u001b[39;49m\u001b[43mlanguages\u001b[49m\u001b[43m,\u001b[49m\n\u001b[0;32m    305\u001b[0m \u001b[43m            \u001b[49m\u001b[43mmetadata_last_modified\u001b[49m\u001b[38;5;241;43m=\u001b[39;49m\u001b[43mmetadata_last_modified\u001b[49m\u001b[43m \u001b[49m\u001b[38;5;129;43;01mor\u001b[39;49;00m\u001b[43m \u001b[49m\u001b[43mlast_modification_date\u001b[49m\u001b[43m,\u001b[49m\n\u001b[0;32m    306\u001b[0m \u001b[43m            \u001b[49m\u001b[43mhi_res_model_name\u001b[49m\u001b[38;5;241;43m=\u001b[39;49m\u001b[43mhi_res_model_name\u001b[49m\u001b[43m,\u001b[49m\n\u001b[0;32m    307\u001b[0m \u001b[43m            \u001b[49m\u001b[43mpdf_text_extractable\u001b[49m\u001b[38;5;241;43m=\u001b[39;49m\u001b[43mpdf_text_extractable\u001b[49m\u001b[43m,\u001b[49m\n\u001b[0;32m    308\u001b[0m \u001b[43m            \u001b[49m\u001b[43mextract_images_in_pdf\u001b[49m\u001b[38;5;241;43m=\u001b[39;49m\u001b[43mextract_images_in_pdf\u001b[49m\u001b[43m,\u001b[49m\n\u001b[0;32m    309\u001b[0m \u001b[43m            \u001b[49m\u001b[43mextract_image_block_types\u001b[49m\u001b[38;5;241;43m=\u001b[39;49m\u001b[43mextract_image_block_types\u001b[49m\u001b[43m,\u001b[49m\n\u001b[0;32m    310\u001b[0m \u001b[43m            \u001b[49m\u001b[43mextract_image_block_output_dir\u001b[49m\u001b[38;5;241;43m=\u001b[39;49m\u001b[43mextract_image_block_output_dir\u001b[49m\u001b[43m,\u001b[49m\n\u001b[0;32m    311\u001b[0m \u001b[43m            \u001b[49m\u001b[43mextract_image_block_to_payload\u001b[49m\u001b[38;5;241;43m=\u001b[39;49m\u001b[43mextract_image_block_to_payload\u001b[49m\u001b[43m,\u001b[49m\n\u001b[0;32m    312\u001b[0m \u001b[43m            \u001b[49m\u001b[38;5;241;43m*\u001b[39;49m\u001b[38;5;241;43m*\u001b[39;49m\u001b[43mkwargs\u001b[49m\u001b[43m,\u001b[49m\n\u001b[0;32m    313\u001b[0m \u001b[43m        \u001b[49m\u001b[43m)\u001b[49m\n\u001b[0;32m    314\u001b[0m         out_elements \u001b[38;5;241m=\u001b[39m _process_uncategorized_text_elements(elements)\n\u001b[0;32m    316\u001b[0m \u001b[38;5;28;01melif\u001b[39;00m strategy \u001b[38;5;241m==\u001b[39m PartitionStrategy\u001b[38;5;241m.\u001b[39mFAST:\n",
            "File \u001b[1;32mc:\\Users\\swath\\AppData\\Local\\Programs\\Python\\Python311\\Lib\\site-packages\\unstructured\\utils.py:214\u001b[0m, in \u001b[0;36mrequires_dependencies.<locals>.decorator.<locals>.wrapper\u001b[1;34m(*args, **kwargs)\u001b[0m\n\u001b[0;32m    205\u001b[0m \u001b[38;5;28;01mif\u001b[39;00m \u001b[38;5;28mlen\u001b[39m(missing_deps) \u001b[38;5;241m>\u001b[39m \u001b[38;5;241m0\u001b[39m:\n\u001b[0;32m    206\u001b[0m     \u001b[38;5;28;01mraise\u001b[39;00m \u001b[38;5;167;01mImportError\u001b[39;00m(\n\u001b[0;32m    207\u001b[0m         \u001b[38;5;124mf\u001b[39m\u001b[38;5;124m\"\u001b[39m\u001b[38;5;124mFollowing dependencies are missing: \u001b[39m\u001b[38;5;132;01m{\u001b[39;00m\u001b[38;5;124m'\u001b[39m\u001b[38;5;124m, \u001b[39m\u001b[38;5;124m'\u001b[39m\u001b[38;5;241m.\u001b[39mjoin(missing_deps)\u001b[38;5;132;01m}\u001b[39;00m\u001b[38;5;124m. \u001b[39m\u001b[38;5;124m\"\u001b[39m\n\u001b[0;32m    208\u001b[0m         \u001b[38;5;241m+\u001b[39m (\n\u001b[1;32m   (...)\u001b[0m\n\u001b[0;32m    212\u001b[0m         ),\n\u001b[0;32m    213\u001b[0m     )\n\u001b[1;32m--> 214\u001b[0m \u001b[38;5;28;01mreturn\u001b[39;00m \u001b[43mfunc\u001b[49m\u001b[43m(\u001b[49m\u001b[38;5;241;43m*\u001b[39;49m\u001b[43margs\u001b[49m\u001b[43m,\u001b[49m\u001b[43m \u001b[49m\u001b[38;5;241;43m*\u001b[39;49m\u001b[38;5;241;43m*\u001b[39;49m\u001b[43mkwargs\u001b[49m\u001b[43m)\u001b[49m\n",
            "File \u001b[1;32mc:\\Users\\swath\\AppData\\Local\\Programs\\Python\\Python311\\Lib\\site-packages\\unstructured\\partition\\pdf.py:454\u001b[0m, in \u001b[0;36m_partition_pdf_or_image_local\u001b[1;34m(filename, file, is_image, infer_table_structure, include_page_breaks, languages, ocr_mode, model_name, hi_res_model_name, pdf_image_dpi, metadata_last_modified, pdf_text_extractable, extract_images_in_pdf, extract_image_block_types, extract_image_block_output_dir, extract_image_block_to_payload, analysis, analyzed_image_output_dir_path, **kwargs)\u001b[0m\n\u001b[0;32m    448\u001b[0m         \u001b[38;5;66;03m# NOTE(christine): merged_document_layout = extracted_layout + inferred_layout\u001b[39;00m\n\u001b[0;32m    449\u001b[0m         merged_document_layout \u001b[38;5;241m=\u001b[39m merge_inferred_with_extracted_layout(\n\u001b[0;32m    450\u001b[0m             inferred_document_layout\u001b[38;5;241m=\u001b[39minferred_document_layout,\n\u001b[0;32m    451\u001b[0m             extracted_layout\u001b[38;5;241m=\u001b[39mextracted_layout,\n\u001b[0;32m    452\u001b[0m         )\n\u001b[1;32m--> 454\u001b[0m         final_document_layout \u001b[38;5;241m=\u001b[39m \u001b[43mprocess_file_with_ocr\u001b[49m\u001b[43m(\u001b[49m\n\u001b[0;32m    455\u001b[0m \u001b[43m            \u001b[49m\u001b[43mfilename\u001b[49m\u001b[43m,\u001b[49m\n\u001b[0;32m    456\u001b[0m \u001b[43m            \u001b[49m\u001b[43mmerged_document_layout\u001b[49m\u001b[43m,\u001b[49m\n\u001b[0;32m    457\u001b[0m \u001b[43m            \u001b[49m\u001b[43mextracted_layout\u001b[49m\u001b[38;5;241;43m=\u001b[39;49m\u001b[43mextracted_layout\u001b[49m\u001b[43m,\u001b[49m\n\u001b[0;32m    458\u001b[0m \u001b[43m            \u001b[49m\u001b[43mis_image\u001b[49m\u001b[38;5;241;43m=\u001b[39;49m\u001b[43mis_image\u001b[49m\u001b[43m,\u001b[49m\n\u001b[0;32m    459\u001b[0m \u001b[43m            \u001b[49m\u001b[43minfer_table_structure\u001b[49m\u001b[38;5;241;43m=\u001b[39;49m\u001b[43minfer_table_structure\u001b[49m\u001b[43m,\u001b[49m\n\u001b[0;32m    460\u001b[0m \u001b[43m            \u001b[49m\u001b[43mocr_languages\u001b[49m\u001b[38;5;241;43m=\u001b[39;49m\u001b[43mocr_languages\u001b[49m\u001b[43m,\u001b[49m\n\u001b[0;32m    461\u001b[0m \u001b[43m            \u001b[49m\u001b[43mocr_mode\u001b[49m\u001b[38;5;241;43m=\u001b[39;49m\u001b[43mocr_mode\u001b[49m\u001b[43m,\u001b[49m\n\u001b[0;32m    462\u001b[0m \u001b[43m            \u001b[49m\u001b[43mpdf_image_dpi\u001b[49m\u001b[38;5;241;43m=\u001b[39;49m\u001b[43mpdf_image_dpi\u001b[49m\u001b[43m,\u001b[49m\n\u001b[0;32m    463\u001b[0m \u001b[43m        \u001b[49m\u001b[43m)\u001b[49m\n\u001b[0;32m    464\u001b[0m \u001b[38;5;28;01melse\u001b[39;00m:\n\u001b[0;32m    465\u001b[0m     inferred_document_layout \u001b[38;5;241m=\u001b[39m process_data_with_model(\n\u001b[0;32m    466\u001b[0m         file,\n\u001b[0;32m    467\u001b[0m         is_image\u001b[38;5;241m=\u001b[39mis_image,\n\u001b[0;32m    468\u001b[0m         model_name\u001b[38;5;241m=\u001b[39mhi_res_model_name,\n\u001b[0;32m    469\u001b[0m         pdf_image_dpi\u001b[38;5;241m=\u001b[39mpdf_image_dpi,\n\u001b[0;32m    470\u001b[0m     )\n",
            "File \u001b[1;32mc:\\Users\\swath\\AppData\\Local\\Programs\\Python\\Python311\\Lib\\site-packages\\unstructured\\utils.py:214\u001b[0m, in \u001b[0;36mrequires_dependencies.<locals>.decorator.<locals>.wrapper\u001b[1;34m(*args, **kwargs)\u001b[0m\n\u001b[0;32m    205\u001b[0m \u001b[38;5;28;01mif\u001b[39;00m \u001b[38;5;28mlen\u001b[39m(missing_deps) \u001b[38;5;241m>\u001b[39m \u001b[38;5;241m0\u001b[39m:\n\u001b[0;32m    206\u001b[0m     \u001b[38;5;28;01mraise\u001b[39;00m \u001b[38;5;167;01mImportError\u001b[39;00m(\n\u001b[0;32m    207\u001b[0m         \u001b[38;5;124mf\u001b[39m\u001b[38;5;124m\"\u001b[39m\u001b[38;5;124mFollowing dependencies are missing: \u001b[39m\u001b[38;5;132;01m{\u001b[39;00m\u001b[38;5;124m'\u001b[39m\u001b[38;5;124m, \u001b[39m\u001b[38;5;124m'\u001b[39m\u001b[38;5;241m.\u001b[39mjoin(missing_deps)\u001b[38;5;132;01m}\u001b[39;00m\u001b[38;5;124m. \u001b[39m\u001b[38;5;124m\"\u001b[39m\n\u001b[0;32m    208\u001b[0m         \u001b[38;5;241m+\u001b[39m (\n\u001b[1;32m   (...)\u001b[0m\n\u001b[0;32m    212\u001b[0m         ),\n\u001b[0;32m    213\u001b[0m     )\n\u001b[1;32m--> 214\u001b[0m \u001b[38;5;28;01mreturn\u001b[39;00m \u001b[43mfunc\u001b[49m\u001b[43m(\u001b[49m\u001b[38;5;241;43m*\u001b[39;49m\u001b[43margs\u001b[49m\u001b[43m,\u001b[49m\u001b[43m \u001b[49m\u001b[38;5;241;43m*\u001b[39;49m\u001b[38;5;241;43m*\u001b[39;49m\u001b[43mkwargs\u001b[49m\u001b[43m)\u001b[49m\n",
            "File \u001b[1;32mc:\\Users\\swath\\AppData\\Local\\Programs\\Python\\Python311\\Lib\\site-packages\\unstructured\\partition\\pdf_image\\ocr.py:178\u001b[0m, in \u001b[0;36mprocess_file_with_ocr\u001b[1;34m(filename, out_layout, extracted_layout, is_image, infer_table_structure, ocr_languages, ocr_mode, pdf_image_dpi)\u001b[0m\n\u001b[0;32m    176\u001b[0m \u001b[38;5;28;01mexcept\u001b[39;00m \u001b[38;5;167;01mException\u001b[39;00m \u001b[38;5;28;01mas\u001b[39;00m e:\n\u001b[0;32m    177\u001b[0m     \u001b[38;5;28;01mif\u001b[39;00m os\u001b[38;5;241m.\u001b[39mpath\u001b[38;5;241m.\u001b[39misdir(filename) \u001b[38;5;129;01mor\u001b[39;00m os\u001b[38;5;241m.\u001b[39mpath\u001b[38;5;241m.\u001b[39misfile(filename):\n\u001b[1;32m--> 178\u001b[0m         \u001b[38;5;28;01mraise\u001b[39;00m e\n\u001b[0;32m    179\u001b[0m     \u001b[38;5;28;01melse\u001b[39;00m:\n\u001b[0;32m    180\u001b[0m         \u001b[38;5;28;01mraise\u001b[39;00m \u001b[38;5;167;01mFileNotFoundError\u001b[39;00m(\u001b[38;5;124mf\u001b[39m\u001b[38;5;124m'\u001b[39m\u001b[38;5;124mFile \u001b[39m\u001b[38;5;124m\"\u001b[39m\u001b[38;5;132;01m{\u001b[39;00mfilename\u001b[38;5;132;01m}\u001b[39;00m\u001b[38;5;124m\"\u001b[39m\u001b[38;5;124m not found!\u001b[39m\u001b[38;5;124m'\u001b[39m) \u001b[38;5;28;01mfrom\u001b[39;00m \u001b[38;5;21;01me\u001b[39;00m\n",
            "File \u001b[1;32mc:\\Users\\swath\\AppData\\Local\\Programs\\Python\\Python311\\Lib\\site-packages\\unstructured\\partition\\pdf_image\\ocr.py:166\u001b[0m, in \u001b[0;36mprocess_file_with_ocr\u001b[1;34m(filename, out_layout, extracted_layout, is_image, infer_table_structure, ocr_languages, ocr_mode, pdf_image_dpi)\u001b[0m\n\u001b[0;32m    164\u001b[0m     extracted_regions \u001b[38;5;241m=\u001b[39m extracted_layout[i] \u001b[38;5;28;01mif\u001b[39;00m i \u001b[38;5;241m<\u001b[39m \u001b[38;5;28mlen\u001b[39m(extracted_layout) \u001b[38;5;28;01melse\u001b[39;00m \u001b[38;5;28;01mNone\u001b[39;00m\n\u001b[0;32m    165\u001b[0m     \u001b[38;5;28;01mwith\u001b[39;00m PILImage\u001b[38;5;241m.\u001b[39mopen(image_path) \u001b[38;5;28;01mas\u001b[39;00m image:\n\u001b[1;32m--> 166\u001b[0m         merged_page_layout \u001b[38;5;241m=\u001b[39m \u001b[43msupplement_page_layout_with_ocr\u001b[49m\u001b[43m(\u001b[49m\n\u001b[0;32m    167\u001b[0m \u001b[43m            \u001b[49m\u001b[43mpage_layout\u001b[49m\u001b[38;5;241;43m=\u001b[39;49m\u001b[43mout_layout\u001b[49m\u001b[38;5;241;43m.\u001b[39;49m\u001b[43mpages\u001b[49m\u001b[43m[\u001b[49m\u001b[43mi\u001b[49m\u001b[43m]\u001b[49m\u001b[43m,\u001b[49m\n\u001b[0;32m    168\u001b[0m \u001b[43m            \u001b[49m\u001b[43mimage\u001b[49m\u001b[38;5;241;43m=\u001b[39;49m\u001b[43mimage\u001b[49m\u001b[43m,\u001b[49m\n\u001b[0;32m    169\u001b[0m \u001b[43m            \u001b[49m\u001b[43minfer_table_structure\u001b[49m\u001b[38;5;241;43m=\u001b[39;49m\u001b[43minfer_table_structure\u001b[49m\u001b[43m,\u001b[49m\n\u001b[0;32m    170\u001b[0m \u001b[43m            \u001b[49m\u001b[43mocr_languages\u001b[49m\u001b[38;5;241;43m=\u001b[39;49m\u001b[43mocr_languages\u001b[49m\u001b[43m,\u001b[49m\n\u001b[0;32m    171\u001b[0m \u001b[43m            \u001b[49m\u001b[43mocr_mode\u001b[49m\u001b[38;5;241;43m=\u001b[39;49m\u001b[43mocr_mode\u001b[49m\u001b[43m,\u001b[49m\n\u001b[0;32m    172\u001b[0m \u001b[43m            \u001b[49m\u001b[43mextracted_regions\u001b[49m\u001b[38;5;241;43m=\u001b[39;49m\u001b[43mextracted_regions\u001b[49m\u001b[43m,\u001b[49m\n\u001b[0;32m    173\u001b[0m \u001b[43m        \u001b[49m\u001b[43m)\u001b[49m\n\u001b[0;32m    174\u001b[0m         merged_page_layouts\u001b[38;5;241m.\u001b[39mappend(merged_page_layout)\n\u001b[0;32m    175\u001b[0m \u001b[38;5;28;01mreturn\u001b[39;00m DocumentLayout\u001b[38;5;241m.\u001b[39mfrom_pages(merged_page_layouts)\n",
            "File \u001b[1;32mc:\\Users\\swath\\AppData\\Local\\Programs\\Python\\Python311\\Lib\\site-packages\\unstructured\\utils.py:214\u001b[0m, in \u001b[0;36mrequires_dependencies.<locals>.decorator.<locals>.wrapper\u001b[1;34m(*args, **kwargs)\u001b[0m\n\u001b[0;32m    205\u001b[0m \u001b[38;5;28;01mif\u001b[39;00m \u001b[38;5;28mlen\u001b[39m(missing_deps) \u001b[38;5;241m>\u001b[39m \u001b[38;5;241m0\u001b[39m:\n\u001b[0;32m    206\u001b[0m     \u001b[38;5;28;01mraise\u001b[39;00m \u001b[38;5;167;01mImportError\u001b[39;00m(\n\u001b[0;32m    207\u001b[0m         \u001b[38;5;124mf\u001b[39m\u001b[38;5;124m\"\u001b[39m\u001b[38;5;124mFollowing dependencies are missing: \u001b[39m\u001b[38;5;132;01m{\u001b[39;00m\u001b[38;5;124m'\u001b[39m\u001b[38;5;124m, \u001b[39m\u001b[38;5;124m'\u001b[39m\u001b[38;5;241m.\u001b[39mjoin(missing_deps)\u001b[38;5;132;01m}\u001b[39;00m\u001b[38;5;124m. \u001b[39m\u001b[38;5;124m\"\u001b[39m\n\u001b[0;32m    208\u001b[0m         \u001b[38;5;241m+\u001b[39m (\n\u001b[1;32m   (...)\u001b[0m\n\u001b[0;32m    212\u001b[0m         ),\n\u001b[0;32m    213\u001b[0m     )\n\u001b[1;32m--> 214\u001b[0m \u001b[38;5;28;01mreturn\u001b[39;00m \u001b[43mfunc\u001b[49m\u001b[43m(\u001b[49m\u001b[38;5;241;43m*\u001b[39;49m\u001b[43margs\u001b[49m\u001b[43m,\u001b[49m\u001b[43m \u001b[49m\u001b[38;5;241;43m*\u001b[39;49m\u001b[38;5;241;43m*\u001b[39;49m\u001b[43mkwargs\u001b[49m\u001b[43m)\u001b[49m\n",
            "File \u001b[1;32mc:\\Users\\swath\\AppData\\Local\\Programs\\Python\\Python311\\Lib\\site-packages\\unstructured\\partition\\pdf_image\\ocr.py:202\u001b[0m, in \u001b[0;36msupplement_page_layout_with_ocr\u001b[1;34m(page_layout, image, infer_table_structure, ocr_languages, ocr_mode, extracted_regions)\u001b[0m\n\u001b[0;32m    200\u001b[0m ocr_agent \u001b[38;5;241m=\u001b[39m get_ocr_agent()\n\u001b[0;32m    201\u001b[0m \u001b[38;5;28;01mif\u001b[39;00m ocr_mode \u001b[38;5;241m==\u001b[39m OCRMode\u001b[38;5;241m.\u001b[39mFULL_PAGE\u001b[38;5;241m.\u001b[39mvalue:\n\u001b[1;32m--> 202\u001b[0m     ocr_layout \u001b[38;5;241m=\u001b[39m \u001b[43mocr_agent\u001b[49m\u001b[38;5;241;43m.\u001b[39;49m\u001b[43mget_layout_from_image\u001b[49m\u001b[43m(\u001b[49m\n\u001b[0;32m    203\u001b[0m \u001b[43m        \u001b[49m\u001b[43mimage\u001b[49m\u001b[43m,\u001b[49m\n\u001b[0;32m    204\u001b[0m \u001b[43m        \u001b[49m\u001b[43mocr_languages\u001b[49m\u001b[38;5;241;43m=\u001b[39;49m\u001b[43mocr_languages\u001b[49m\u001b[43m,\u001b[49m\n\u001b[0;32m    205\u001b[0m \u001b[43m    \u001b[49m\u001b[43m)\u001b[49m\n\u001b[0;32m    206\u001b[0m     page_layout\u001b[38;5;241m.\u001b[39melements[:] \u001b[38;5;241m=\u001b[39m merge_out_layout_with_ocr_layout(\n\u001b[0;32m    207\u001b[0m         out_layout\u001b[38;5;241m=\u001b[39mcast(List[\u001b[38;5;124m\"\u001b[39m\u001b[38;5;124mLayoutElement\u001b[39m\u001b[38;5;124m\"\u001b[39m], page_layout\u001b[38;5;241m.\u001b[39melements),\n\u001b[0;32m    208\u001b[0m         ocr_layout\u001b[38;5;241m=\u001b[39mocr_layout,\n\u001b[0;32m    209\u001b[0m     )\n\u001b[0;32m    210\u001b[0m \u001b[38;5;28;01melif\u001b[39;00m ocr_mode \u001b[38;5;241m==\u001b[39m OCRMode\u001b[38;5;241m.\u001b[39mINDIVIDUAL_BLOCKS\u001b[38;5;241m.\u001b[39mvalue:\n",
            "File \u001b[1;32mc:\\Users\\swath\\AppData\\Local\\Programs\\Python\\Python311\\Lib\\site-packages\\unstructured\\partition\\utils\\ocr_models\\tesseract_ocr.py:48\u001b[0m, in \u001b[0;36mOCRAgentTesseract.get_layout_from_image\u001b[1;34m(self, image, ocr_languages)\u001b[0m\n\u001b[0;32m     46\u001b[0m logger\u001b[38;5;241m.\u001b[39minfo(\u001b[38;5;124m\"\u001b[39m\u001b[38;5;124mProcessing entire page OCR with tesseract...\u001b[39m\u001b[38;5;124m\"\u001b[39m)\n\u001b[0;32m     47\u001b[0m zoom \u001b[38;5;241m=\u001b[39m \u001b[38;5;241m1\u001b[39m\n\u001b[1;32m---> 48\u001b[0m ocr_df: pd\u001b[38;5;241m.\u001b[39mDataFrame \u001b[38;5;241m=\u001b[39m \u001b[43munstructured_pytesseract\u001b[49m\u001b[38;5;241;43m.\u001b[39;49m\u001b[43mimage_to_data\u001b[49m\u001b[43m(\u001b[49m\n\u001b[0;32m     49\u001b[0m \u001b[43m    \u001b[49m\u001b[43mnp\u001b[49m\u001b[38;5;241;43m.\u001b[39;49m\u001b[43marray\u001b[49m\u001b[43m(\u001b[49m\u001b[43mimage\u001b[49m\u001b[43m)\u001b[49m\u001b[43m,\u001b[49m\n\u001b[0;32m     50\u001b[0m \u001b[43m    \u001b[49m\u001b[43mlang\u001b[49m\u001b[38;5;241;43m=\u001b[39;49m\u001b[43mocr_languages\u001b[49m\u001b[43m,\u001b[49m\n\u001b[0;32m     51\u001b[0m \u001b[43m    \u001b[49m\u001b[43moutput_type\u001b[49m\u001b[38;5;241;43m=\u001b[39;49m\u001b[43mOutput\u001b[49m\u001b[38;5;241;43m.\u001b[39;49m\u001b[43mDATAFRAME\u001b[49m\u001b[43m,\u001b[49m\n\u001b[0;32m     52\u001b[0m \u001b[43m\u001b[49m\u001b[43m)\u001b[49m\n\u001b[0;32m     53\u001b[0m ocr_df \u001b[38;5;241m=\u001b[39m ocr_df\u001b[38;5;241m.\u001b[39mdropna()\n\u001b[0;32m     55\u001b[0m \u001b[38;5;66;03m# tesseract performance degrades when the text height is out of the preferred zone so we\u001b[39;00m\n\u001b[0;32m     56\u001b[0m \u001b[38;5;66;03m# zoom the image (in or out depending on estimated text height) for optimum OCR results\u001b[39;00m\n\u001b[0;32m     57\u001b[0m \u001b[38;5;66;03m# but this needs to be evaluated based on actual use case as the optimum scaling also\u001b[39;00m\n\u001b[0;32m     58\u001b[0m \u001b[38;5;66;03m# depend on type of characters (font, language, etc); be careful about this\u001b[39;00m\n\u001b[0;32m     59\u001b[0m \u001b[38;5;66;03m# functionality\u001b[39;00m\n",
            "File \u001b[1;32mc:\\Users\\swath\\AppData\\Local\\Programs\\Python\\Python311\\Lib\\site-packages\\unstructured_pytesseract\\pytesseract.py:585\u001b[0m, in \u001b[0;36mimage_to_data\u001b[1;34m(image, lang, config, nice, output_type, timeout, pandas_config)\u001b[0m\n\u001b[0;32m    571\u001b[0m \u001b[38;5;28;01mdef\u001b[39;00m \u001b[38;5;21mimage_to_data\u001b[39m(\n\u001b[0;32m    572\u001b[0m     image,\n\u001b[0;32m    573\u001b[0m     lang\u001b[38;5;241m=\u001b[39m\u001b[38;5;28;01mNone\u001b[39;00m,\n\u001b[1;32m   (...)\u001b[0m\n\u001b[0;32m    578\u001b[0m     pandas_config\u001b[38;5;241m=\u001b[39m\u001b[38;5;28;01mNone\u001b[39;00m,\n\u001b[0;32m    579\u001b[0m ):\n\u001b[0;32m    580\u001b[0m \u001b[38;5;250m    \u001b[39m\u001b[38;5;124;03m\"\"\"\u001b[39;00m\n\u001b[0;32m    581\u001b[0m \u001b[38;5;124;03m    Returns string containing box boundaries, confidences,\u001b[39;00m\n\u001b[0;32m    582\u001b[0m \u001b[38;5;124;03m    and other information. Requires Tesseract 3.05+\u001b[39;00m\n\u001b[0;32m    583\u001b[0m \u001b[38;5;124;03m    \"\"\"\u001b[39;00m\n\u001b[1;32m--> 585\u001b[0m     \u001b[38;5;28;01mif\u001b[39;00m \u001b[43mget_tesseract_version\u001b[49m\u001b[43m(\u001b[49m\u001b[43mcached\u001b[49m\u001b[38;5;241;43m=\u001b[39;49m\u001b[38;5;28;43;01mTrue\u001b[39;49;00m\u001b[43m)\u001b[49m \u001b[38;5;241m<\u001b[39m TESSERACT_MIN_VERSION:\n\u001b[0;32m    586\u001b[0m         \u001b[38;5;28;01mraise\u001b[39;00m TSVNotSupported()\n\u001b[0;32m    588\u001b[0m     config \u001b[38;5;241m=\u001b[39m \u001b[38;5;124mf\u001b[39m\u001b[38;5;124m'\u001b[39m\u001b[38;5;124m-c tessedit_create_tsv=1 \u001b[39m\u001b[38;5;132;01m{\u001b[39;00mconfig\u001b[38;5;241m.\u001b[39mstrip()\u001b[38;5;132;01m}\u001b[39;00m\u001b[38;5;124m'\u001b[39m\n",
            "File \u001b[1;32mc:\\Users\\swath\\AppData\\Local\\Programs\\Python\\Python311\\Lib\\site-packages\\unstructured_pytesseract\\pytesseract.py:158\u001b[0m, in \u001b[0;36mrun_once.<locals>.wrapper\u001b[1;34m(*args, **kwargs)\u001b[0m\n\u001b[0;32m    155\u001b[0m \u001b[38;5;129m@wraps\u001b[39m(func)\n\u001b[0;32m    156\u001b[0m \u001b[38;5;28;01mdef\u001b[39;00m \u001b[38;5;21mwrapper\u001b[39m(\u001b[38;5;241m*\u001b[39margs, \u001b[38;5;241m*\u001b[39m\u001b[38;5;241m*\u001b[39mkwargs):\n\u001b[0;32m    157\u001b[0m     \u001b[38;5;28;01mif\u001b[39;00m \u001b[38;5;129;01mnot\u001b[39;00m kwargs\u001b[38;5;241m.\u001b[39mpop(\u001b[38;5;124m'\u001b[39m\u001b[38;5;124mcached\u001b[39m\u001b[38;5;124m'\u001b[39m, \u001b[38;5;28;01mFalse\u001b[39;00m) \u001b[38;5;129;01mor\u001b[39;00m wrapper\u001b[38;5;241m.\u001b[39m_result \u001b[38;5;129;01mis\u001b[39;00m wrapper:\n\u001b[1;32m--> 158\u001b[0m         wrapper\u001b[38;5;241m.\u001b[39m_result \u001b[38;5;241m=\u001b[39m \u001b[43mfunc\u001b[49m\u001b[43m(\u001b[49m\u001b[38;5;241;43m*\u001b[39;49m\u001b[43margs\u001b[49m\u001b[43m,\u001b[49m\u001b[43m \u001b[49m\u001b[38;5;241;43m*\u001b[39;49m\u001b[38;5;241;43m*\u001b[39;49m\u001b[43mkwargs\u001b[49m\u001b[43m)\u001b[49m\n\u001b[0;32m    159\u001b[0m     \u001b[38;5;28;01mreturn\u001b[39;00m wrapper\u001b[38;5;241m.\u001b[39m_result\n",
            "File \u001b[1;32mc:\\Users\\swath\\AppData\\Local\\Programs\\Python\\Python311\\Lib\\site-packages\\unstructured_pytesseract\\pytesseract.py:453\u001b[0m, in \u001b[0;36mget_tesseract_version\u001b[1;34m()\u001b[0m\n\u001b[0;32m    446\u001b[0m     output \u001b[38;5;241m=\u001b[39m subprocess\u001b[38;5;241m.\u001b[39mcheck_output(\n\u001b[0;32m    447\u001b[0m         [tesseract_cmd, \u001b[38;5;124m'\u001b[39m\u001b[38;5;124m--version\u001b[39m\u001b[38;5;124m'\u001b[39m],\n\u001b[0;32m    448\u001b[0m         stderr\u001b[38;5;241m=\u001b[39msubprocess\u001b[38;5;241m.\u001b[39mSTDOUT,\n\u001b[0;32m    449\u001b[0m         env\u001b[38;5;241m=\u001b[39menviron,\n\u001b[0;32m    450\u001b[0m         stdin\u001b[38;5;241m=\u001b[39msubprocess\u001b[38;5;241m.\u001b[39mDEVNULL,\n\u001b[0;32m    451\u001b[0m     )\n\u001b[0;32m    452\u001b[0m \u001b[38;5;28;01mexcept\u001b[39;00m \u001b[38;5;167;01mOSError\u001b[39;00m:\n\u001b[1;32m--> 453\u001b[0m     \u001b[38;5;28;01mraise\u001b[39;00m TesseractNotFoundError()\n\u001b[0;32m    455\u001b[0m raw_version \u001b[38;5;241m=\u001b[39m output\u001b[38;5;241m.\u001b[39mdecode(DEFAULT_ENCODING)\n\u001b[0;32m    456\u001b[0m str_version, \u001b[38;5;241m*\u001b[39m_ \u001b[38;5;241m=\u001b[39m raw_version\u001b[38;5;241m.\u001b[39mlstrip(string\u001b[38;5;241m.\u001b[39mprintable[\u001b[38;5;241m10\u001b[39m:])\u001b[38;5;241m.\u001b[39mpartition(\u001b[38;5;124m'\u001b[39m\u001b[38;5;124m \u001b[39m\u001b[38;5;124m'\u001b[39m)\n",
            "\u001b[1;31mTesseractNotFoundError\u001b[0m: tesseract is not installed or it's not in your PATH. See README file for more information."
          ]
        }
      ],
      "source": [
        "#Partition the PDF into Chunks \n",
        "#get the text,table and image elements from the PDF\n",
        "raw_pdf_elements = partition_pdf(\n",
        "    filename=r\"C:\\Users\\swath\\OneDrive - University of Ottawa\\Multimedia Communication\\Multimodal-RAG-using-Langchain-main\\pdf_file\\ModelS.pdf\",\n",
        "    extract_images_in_pdf=True,\n",
        "    infer_table_structure=True,\n",
        "    chunking_strategy=\"by_title\",\n",
        "    max_characters=4000,\n",
        "    new_after_n_chars=3800,\n",
        "    combine_text_under_n_chars=2000,\n",
        "    extract_image_block_output_dir=output_path,\n",
        ")"
      ]
    },
    {
      "cell_type": "code",
      "execution_count": 43,
      "metadata": {
        "id": "qvLmVqQ8OLCJ"
      },
      "outputs": [],
      "source": [
        "# Get text summaries and table summaries\n",
        "text_elements = []\n",
        "table_elements = []\n",
        "\n",
        "text_summaries = []\n",
        "table_summaries = []\n",
        "\n",
        "summary_prompt = \"\"\"\n",
        "Summarize the following {element_type}:\n",
        "{element}\n",
        "\"\"\""
      ]
    },
    {
      "cell_type": "code",
      "execution_count": 44,
      "metadata": {
        "id": "j01O7GW8QU3w"
      },
      "outputs": [],
      "source": [
        "#Summaries the text and table elements\n",
        "summary_chain = LLMChain(\n",
        "    llm=ChatOpenAI(model=\"gpt-3.5-turbo\", openai_api_key = openai_api_key, max_tokens=1024),\n",
        "    prompt=PromptTemplate.from_template(summary_prompt)\n",
        ")"
      ]
    },
    {
      "cell_type": "code",
      "execution_count": null,
      "metadata": {
        "id": "Jy4WnLMWQVEX"
      },
      "outputs": [],
      "source": [
        "\n",
        "for e in raw_pdf_elements:\n",
        "    if 'CompositeElement' in repr(e):\n",
        "        text_elements.append(e.text)\n",
        "        summary = summary_chain.run({'element_type': 'text', 'element': e})\n",
        "        text_summaries.append(summary)\n",
        "\n",
        "    elif 'Table' in repr(e):\n",
        "        table_elements.append(e.text)\n",
        "        summary = summary_chain.run({'element_type': 'table', 'element': e})\n",
        "        table_summaries.append(summary)"
      ]
    },
    {
      "cell_type": "code",
      "execution_count": 46,
      "metadata": {
        "id": "LPRmiI3BQVKI"
      },
      "outputs": [],
      "source": [
        "image_elements = []\n",
        "image_summaries = []"
      ]
    },
    {
      "cell_type": "code",
      "execution_count": null,
      "metadata": {
        "id": "OA-wpUXwQVMg"
      },
      "outputs": [],
      "source": [
        "#Encoding the images in PDF to base64\n",
        "def encode_image(image_path):\n",
        "    with open(image_path, \"rb\") as f:\n",
        "        return base64.b64encode(f.read()).decode('utf-8')"
      ]
    },
    {
      "cell_type": "code",
      "execution_count": 48,
      "metadata": {
        "id": "Zi56pT94QVQI"
      },
      "outputs": [],
      "source": [
        "#Creating summaries of the images\n",
        "def summarize_image(encoded_image):\n",
        "    prompt = [\n",
        "        SystemMessage(content=\"You are a bot that is good at analyzing images related to Electric Vehicles\"),\n",
        "        HumanMessage(content=[\n",
        "            {\n",
        "                \"type\": \"text\",\n",
        "                \"text\": \"Describe the contents of this image.\"\n",
        "            },\n",
        "            {\n",
        "                \"type\": \"image_url\",\n",
        "                \"image_url\": {\n",
        "                    \"url\": f\"data:image/jpeg;base64,{encoded_image}\"\n",
        "                },\n",
        "            },\n",
        "        ])\n",
        "    ]\n",
        "    response = ChatOpenAI(model=\"gpt-4-vision-preview\", openai_api_key=openai_api_key, max_tokens=1024).invoke(prompt)\n",
        "    return response.content"
      ]
    },
    {
      "cell_type": "code",
      "execution_count": 49,
      "metadata": {
        "id": "P2Vt3CS4QVTA"
      },
      "outputs": [],
      "source": [
        "for i in os.listdir(output_path):\n",
        "    if i.endswith(('.png', '.jpg', '.jpeg')):\n",
        "        image_path = os.path.join(output_path, i)\n",
        "        encoded_image = encode_image(image_path)\n",
        "        image_elements.append(encoded_image)\n",
        "        summary = summarize_image(encoded_image)\n",
        "        image_summaries.append(summary)"
      ]
    },
    {
      "cell_type": "code",
      "execution_count": 50,
      "metadata": {
        "colab": {
          "base_uri": "https://localhost:8080/"
        },
        "id": "z6lx6ewwSmj3",
        "outputId": "e5d77d41-9c3c-4292-d11c-30a9a740baf8"
      },
      "outputs": [
        {
          "name": "stdout",
          "output_type": "stream",
          "text": [
            "Requirement already satisfied: faiss-cpu in /usr/local/lib/python3.10/dist-packages (1.7.4)\n"
          ]
        }
      ],
      "source": [
        "% pip install faiss-cpu"
      ]
    },
    {
      "cell_type": "code",
      "execution_count": 51,
      "metadata": {
        "id": "t09x5bGySn6F"
      },
      "outputs": [],
      "source": [
        "documents = []\n",
        "retrieve_contents = []"
      ]
    },
    {
      "cell_type": "code",
      "execution_count": 52,
      "metadata": {
        "id": "sLbR2XxQSnQJ"
      },
      "outputs": [],
      "source": [
        "#Creating document for the text element\n",
        "for e, s in zip(text_elements, text_summaries):\n",
        "    i = str(uuid.uuid4())\n",
        "    doc = Document(\n",
        "        page_content = s,\n",
        "        metadata = {\n",
        "            'id': i,\n",
        "            'type': 'text',\n",
        "            'original_content': e\n",
        "        }\n",
        "    )\n",
        "    retrieve_contents.append((i, e))\n",
        "    documents.append(doc)"
      ]
    },
    {
      "cell_type": "code",
      "execution_count": 53,
      "metadata": {
        "id": "eL-HDd6ETBF3"
      },
      "outputs": [],
      "source": [
        "#Creating document for the table element\n",
        "for e, s in zip(table_elements, table_summaries):\n",
        "    doc = Document(\n",
        "        page_content = s,\n",
        "        metadata = {\n",
        "            'id': i,\n",
        "            'type': 'table',\n",
        "            'original_content': e\n",
        "        }\n",
        "    )\n",
        "    retrieve_contents.append((i, e))\n",
        "    documents.append(doc)"
      ]
    },
    {
      "cell_type": "code",
      "execution_count": 54,
      "metadata": {
        "id": "wgaaSa_fTGE4"
      },
      "outputs": [],
      "source": [
        "#create summaries of the image element\n",
        "for e, s in zip(image_elements, image_summaries):\n",
        "    doc = Document(\n",
        "        page_content = s,\n",
        "        metadata = {\n",
        "            'id': i,\n",
        "            'type': 'image',\n",
        "            'original_content': e\n",
        "        }\n",
        "    )\n",
        "    retrieve_contents.append((i, e))\n",
        "    documents.append(doc)"
      ]
    },
    {
      "cell_type": "code",
      "execution_count": 55,
      "metadata": {
        "id": "yn65fVpnTLeK"
      },
      "outputs": [],
      "source": [
        "#create a vectore store embeddings of the pdf\n",
        "vectorstore = FAISS.from_documents(documents=documents, embedding=OpenAIEmbeddings(openai_api_key=openai_api_key))"
      ]
    },
    {
      "cell_type": "code",
      "execution_count": 56,
      "metadata": {
        "id": "iZhcIKgSTSv4"
      },
      "outputs": [],
      "source": [
        "vectorstore.save_local(\"faiss_index\")"
      ]
    },
    {
      "cell_type": "code",
      "execution_count": null,
      "metadata": {
        "id": "-0Sc6kymTTVL"
      },
      "outputs": [],
      "source": []
    }
  ],
  "metadata": {
    "colab": {
      "provenance": []
    },
    "kernelspec": {
      "display_name": "Python 3",
      "name": "python3"
    },
    "language_info": {
      "codemirror_mode": {
        "name": "ipython",
        "version": 3
      },
      "file_extension": ".py",
      "mimetype": "text/x-python",
      "name": "python",
      "nbconvert_exporter": "python",
      "pygments_lexer": "ipython3",
      "version": "3.11.2"
    }
  },
  "nbformat": 4,
  "nbformat_minor": 0
}
